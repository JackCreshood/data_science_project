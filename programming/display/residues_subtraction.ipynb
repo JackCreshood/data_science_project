{
 "cells": [
  {
   "cell_type": "code",
   "execution_count": 1,
   "id": "89f6f4bb-9422-4529-8b09-8029670ce4bd",
   "metadata": {},
   "outputs": [],
   "source": [
    "import pandas as pd"
   ]
  },
  {
   "cell_type": "code",
   "execution_count": 2,
   "id": "b8eea9b3-4d67-489d-b181-21e2a8c3deb1",
   "metadata": {},
   "outputs": [],
   "source": [
    "res_pairs = pd.read_csv('./processed/subtraction/diff_residues.csv')"
   ]
  },
  {
   "cell_type": "code",
   "execution_count": 47,
   "id": "460b9ca1-a589-4887-a9f0-2bc865eaf717",
   "metadata": {},
   "outputs": [],
   "source": [
    "rename_res = res_pairs.rename(columns={'Residues': 'Pair'})"
   ]
  },
  {
   "cell_type": "code",
   "execution_count": 48,
   "id": "dc9479f5-48e7-425f-983d-be1016eb32ed",
   "metadata": {},
   "outputs": [],
   "source": [
    "def extract_residues(res_df):\n",
    "    pairs_list = list(res_df['Pair'])\n",
    "    res1_list = []\n",
    "    res2_list = []\n",
    "    for i in range(len(pairs_list)):\n",
    "        pairs_str = pairs_list[i]\n",
    "        test_list = pairs_str.split(\",\")\n",
    "        temp_str1 = test_list[0]\n",
    "        temp_str2 = test_list[1]\n",
    "        temp_res1 = temp_str1[2:-1]\n",
    "        temp_res2 = temp_str2[2:-2]\n",
    "        res1_list.append(temp_res1)\n",
    "        res2_list.append(temp_res2)\n",
    "    return res1_list, res2_list\n",
    "\n",
    "\n",
    "residues_1, residues_2 = extract_residues(rename_res)"
   ]
  },
  {
   "cell_type": "code",
   "execution_count": 49,
   "id": "6b924c2b-9a24-4d9a-9b33-d66c21ef7f07",
   "metadata": {},
   "outputs": [],
   "source": [
    "res1_df = rename_res.copy(deep=True)\n",
    "res2_df = rename_res.copy(deep=True)\n",
    "\n",
    "res1_df.insert(0, 'Residue', residues_1)\n",
    "res2_df.insert(0, 'Residue', residues_2)"
   ]
  },
  {
   "cell_type": "code",
   "execution_count": 53,
   "id": "c2de9619-c7cf-4d87-ab4c-619f9a2b60ce",
   "metadata": {},
   "outputs": [],
   "source": [
    "diff_res = pd.concat([res1_df, res2_df], ignore_index=True)"
   ]
  },
  {
   "cell_type": "code",
   "execution_count": 57,
   "id": "bf7ae8db-278e-4545-b60d-992918f61f4a",
   "metadata": {},
   "outputs": [],
   "source": [
    "diff_res.to_csv('./processed/subtraction/diff_single_residues.csv',\n",
    "                index=False)"
   ]
  },
  {
   "cell_type": "code",
   "execution_count": 71,
   "id": "18bbf34a-03c9-437b-9749-c77bfacbe535",
   "metadata": {},
   "outputs": [],
   "source": [
    "residues_list = residues_1 + residues_2\n",
    "orders = []\n",
    "for i in range(len(residues_list)):\n",
    "    temp_res = residues_list[i]\n",
    "    temp_order = int(temp_res[4:])\n",
    "    orders.append(temp_order)"
   ]
  },
  {
   "cell_type": "code",
   "execution_count": 72,
   "id": "88b24e8b-c964-41ef-961d-4cb50d3ad106",
   "metadata": {},
   "outputs": [],
   "source": [
    "diff_res['order'] = orders"
   ]
  },
  {
   "cell_type": "code",
   "execution_count": 73,
   "id": "f897de85-4fcb-4cc1-9750-06903547dec4",
   "metadata": {},
   "outputs": [],
   "source": [
    "sort_residues = diff_res.sort_values(by=['order'], ignore_index=True)"
   ]
  },
  {
   "cell_type": "code",
   "execution_count": 75,
   "id": "84306a77-08bf-4090-81fe-e48da69c9992",
   "metadata": {},
   "outputs": [],
   "source": [
    "sort_residues.to_csv('./processed/subtraction/sort_single_residues.csv',\n",
    "                     index=False)"
   ]
  },
  {
   "cell_type": "code",
   "execution_count": null,
   "id": "eee5790a-e898-4923-8905-7bcdd992c9ae",
   "metadata": {},
   "outputs": [],
   "source": []
  }
 ],
 "metadata": {
  "kernelspec": {
   "display_name": "Python 3 (ipykernel)",
   "language": "python",
   "name": "python3"
  },
  "language_info": {
   "codemirror_mode": {
    "name": "ipython",
    "version": 3
   },
   "file_extension": ".py",
   "mimetype": "text/x-python",
   "name": "python",
   "nbconvert_exporter": "python",
   "pygments_lexer": "ipython3",
   "version": "3.13.5"
  }
 },
 "nbformat": 4,
 "nbformat_minor": 5
}
