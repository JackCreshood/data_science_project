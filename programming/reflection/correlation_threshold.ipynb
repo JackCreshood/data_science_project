{
 "cells": [
  {
   "cell_type": "markdown",
   "id": "f281fead-78d7-4947-9828-7739dc962276",
   "metadata": {},
   "source": [
    "# HIS_164\n",
    "* Extract correlations and drop correlations between -0.1 and 0.1."
   ]
  },
  {
   "cell_type": "code",
   "execution_count": 1,
   "id": "4115553b-0c5c-4250-9b90-9df448376c32",
   "metadata": {},
   "outputs": [],
   "source": [
    "import pandas as pd\n",
    "from pathlib import Path\n",
    "import warnings"
   ]
  },
  {
   "cell_type": "code",
   "execution_count": 2,
   "id": "fde9781f-77fe-4c7a-8744-9d0ed1a48daa",
   "metadata": {},
   "outputs": [],
   "source": [
    "root = Path().resolve()\n",
    "path = root/'dataset'/'Henry_Mpro_pKa'"
   ]
  },
  {
   "cell_type": "code",
   "execution_count": 3,
   "id": "37ae3d94-19d0-4c27-b5eb-997bd8aaafbd",
   "metadata": {},
   "outputs": [],
   "source": [
    "def read_data(name):\n",
    "    table_data = pd.DataFrame({})\n",
    "    dataset_path = path/name\n",
    "    for dp in dataset_path.iterdir():\n",
    "        if dp.name != 'structure.pdb':\n",
    "            temp_table = pd.read_table(dp, header=None, names=['#1', '#2'])\n",
    "            temp_array = (list)(temp_table['#2'])\n",
    "            table_data[dp.name] = temp_array\n",
    "            warnings.simplefilter(action=\"ignore\", category=pd.errors.PerformanceWarning)\n",
    "    return table_data"
   ]
  },
  {
   "cell_type": "code",
   "execution_count": 4,
   "id": "67834bf5-df2a-4cff-a709-6c56f872b5aa",
   "metadata": {},
   "outputs": [],
   "source": [
    "def pearson_analysis(table):\n",
    "\n",
    "    corr_matrix = table.corr(method='pearson')\n",
    "\n",
    "    return corr_matrix"
   ]
  },
  {
   "cell_type": "code",
   "execution_count": 5,
   "id": "9ab0dde4-95fa-4812-ad45-6c514fa82e4e",
   "metadata": {},
   "outputs": [],
   "source": [
    "S01_table = read_data(name='S01')\n",
    "S02_table = read_data(name='S02')\n",
    "S03_table = read_data(name='S03')\n",
    "S04_table = read_data(name='S04')\n",
    "S05_table = read_data(name='S05')\n",
    "S06_table = read_data(name='S06')\n",
    "S07_table = read_data(name='S07')\n",
    "S08_table = read_data(name='S08')\n",
    "S09_table = read_data(name='S09')\n",
    "S10_table = read_data(name='S10')\n",
    "S11_table = read_data(name='S11')\n",
    "p12_table = read_data(name='p12')\n",
    "p13_table = read_data(name='p13')\n",
    "\n",
    "S01_corr_matrix = pearson_analysis(S01_table)\n",
    "S02_corr_matrix = pearson_analysis(S02_table)\n",
    "S03_corr_matrix = pearson_analysis(S03_table)\n",
    "S04_corr_matrix = pearson_analysis(S04_table)\n",
    "S05_corr_matrix = pearson_analysis(S05_table)\n",
    "S06_corr_matrix = pearson_analysis(S06_table)\n",
    "S07_corr_matrix = pearson_analysis(S07_table)\n",
    "S08_corr_matrix = pearson_analysis(S08_table)\n",
    "S09_corr_matrix = pearson_analysis(S09_table)\n",
    "S10_corr_matrix = pearson_analysis(S10_table)\n",
    "S11_corr_matrix = pearson_analysis(S11_table)\n",
    "p12_corr_matrix = pearson_analysis(p12_table)\n",
    "p13_corr_matrix = pearson_analysis(p13_table)"
   ]
  },
  {
   "cell_type": "code",
   "execution_count": 6,
   "id": "85c101c3-9ad4-4a53-8d81-76b16caaad9d",
   "metadata": {},
   "outputs": [],
   "source": [
    "def filter_extract_corr(sub_matrix, resi):\n",
    "    resi_column = sub_matrix.loc[resi]\n",
    "    resi_data = pd.DataFrame(resi_column)\n",
    "\n",
    "    # filter low correlation values\n",
    "    for row in resi_data.iterrows():\n",
    "        warnings.simplefilter(action='ignore', category=FutureWarning)\n",
    "        test_value = float(row[1])\n",
    "        if test_value < 0.1 and test_value > -0.1:\n",
    "            resi_data.drop(row[0], inplace=True)\n",
    "\n",
    "    resi_clean_data = resi_data.drop(resi)\n",
    "    double_resi_data = resi_clean_data.apply(lambda x: x*2)\n",
    "    return double_resi_data"
   ]
  },
  {
   "cell_type": "code",
   "execution_count": 7,
   "id": "fa4c4f91-76b4-479a-b119-3967828486a9",
   "metadata": {},
   "outputs": [],
   "source": [
    "S01_filter_HIS164_data = filter_extract_corr(S01_corr_matrix, resi='HIS_164')\n",
    "S02_filter_HIS164_data = filter_extract_corr(S02_corr_matrix, resi='HIS_164')\n",
    "S03_filter_HIS164_data = filter_extract_corr(S03_corr_matrix, resi='HIS_164')\n",
    "S04_filter_HIS164_data = filter_extract_corr(S04_corr_matrix, resi='HIS_164')\n",
    "S05_filter_HIS164_data = filter_extract_corr(S05_corr_matrix, resi='HIS_164')\n",
    "S06_filter_HIS164_data = filter_extract_corr(S06_corr_matrix, resi='HIS_164')\n",
    "S07_filter_HIS164_data = filter_extract_corr(S07_corr_matrix, resi='HIS_164')\n",
    "S08_filter_HIS164_data = filter_extract_corr(S08_corr_matrix, resi='HIS_164')\n",
    "S09_filter_HIS164_data = filter_extract_corr(S09_corr_matrix, resi='HIS_164')\n",
    "S10_filter_HIS164_data = filter_extract_corr(S10_corr_matrix, resi='HIS_164')\n",
    "S11_filter_HIS164_data = filter_extract_corr(S11_corr_matrix, resi='HIS_164')\n",
    "p12_filter_HIS164_data = filter_extract_corr(p12_corr_matrix, resi='HIS_164')\n",
    "p13_filter_HIS164_data = filter_extract_corr(p13_corr_matrix, resi='HIS_164')"
   ]
  },
  {
   "cell_type": "code",
   "execution_count": 43,
   "id": "fe0577f0-8a46-4bd8-8bd4-f856a3cf2348",
   "metadata": {},
   "outputs": [],
   "source": [
    "S01_filter_HIS164_data.to_csv('./filter/S01_filter_HIS164.csv')\n",
    "S02_filter_HIS164_data.to_csv('./filter/S02_filter_HIS164.csv')\n",
    "S03_filter_HIS164_data.to_csv('./filter/S03_filter_HIS164.csv')\n",
    "S04_filter_HIS164_data.to_csv('./filter/S04_filter_HIS164.csv')\n",
    "S05_filter_HIS164_data.to_csv('./filter/S05_filter_HIS164.csv')\n",
    "S06_filter_HIS164_data.to_csv('./filter/S06_filter_HIS164.csv')\n",
    "S07_filter_HIS164_data.to_csv('./filter/S07_filter_HIS164.csv')\n",
    "S08_filter_HIS164_data.to_csv('./filter/S08_filter_HIS164.csv')\n",
    "S09_filter_HIS164_data.to_csv('./filter/S09_filter_HIS164.csv')\n",
    "S10_filter_HIS164_data.to_csv('./filter/S10_filter_HIS164.csv')\n",
    "S11_filter_HIS164_data.to_csv('./filter/S11_filter_HIS164.csv')\n",
    "p12_filter_HIS164_data.to_csv('./filter/p12_filter_HIS164.csv')\n",
    "p13_filter_HIS164_data.to_csv('./filter/p13_filter_HIS164.csv')"
   ]
  },
  {
   "cell_type": "code",
   "execution_count": 18,
   "id": "3f856707-bed3-40a3-862e-1d702e669dfa",
   "metadata": {},
   "outputs": [
    {
     "data": {
      "text/html": [
       "<div>\n",
       "<style scoped>\n",
       "    .dataframe tbody tr th:only-of-type {\n",
       "        vertical-align: middle;\n",
       "    }\n",
       "\n",
       "    .dataframe tbody tr th {\n",
       "        vertical-align: top;\n",
       "    }\n",
       "\n",
       "    .dataframe thead th {\n",
       "        text-align: right;\n",
       "    }\n",
       "</style>\n",
       "<table border=\"1\" class=\"dataframe\">\n",
       "  <thead>\n",
       "    <tr style=\"text-align: right;\">\n",
       "      <th></th>\n",
       "      <th>HIS_164</th>\n",
       "    </tr>\n",
       "  </thead>\n",
       "  <tbody>\n",
       "    <tr>\n",
       "      <th>LYS_575</th>\n",
       "      <td>-0.104681</td>\n",
       "    </tr>\n",
       "    <tr>\n",
       "      <th>ASP_176</th>\n",
       "      <td>-0.109997</td>\n",
       "    </tr>\n",
       "    <tr>\n",
       "      <th>ARG_346</th>\n",
       "      <td>0.116519</td>\n",
       "    </tr>\n",
       "    <tr>\n",
       "      <th>TYR_360</th>\n",
       "      <td>-0.136468</td>\n",
       "    </tr>\n",
       "    <tr>\n",
       "      <th>TYR_54</th>\n",
       "      <td>-0.115347</td>\n",
       "    </tr>\n",
       "    <tr>\n",
       "      <th>ARG_298</th>\n",
       "      <td>0.149144</td>\n",
       "    </tr>\n",
       "    <tr>\n",
       "      <th>ARG_40</th>\n",
       "      <td>0.211486</td>\n",
       "    </tr>\n",
       "    <tr>\n",
       "      <th>HIS_163</th>\n",
       "      <td>-0.492588</td>\n",
       "    </tr>\n",
       "    <tr>\n",
       "      <th>CYS_128</th>\n",
       "      <td>0.125571</td>\n",
       "    </tr>\n",
       "    <tr>\n",
       "      <th>ASP_187</th>\n",
       "      <td>-0.578010</td>\n",
       "    </tr>\n",
       "    <tr>\n",
       "      <th>GLU_546</th>\n",
       "      <td>-0.132600</td>\n",
       "    </tr>\n",
       "    <tr>\n",
       "      <th>CYS_606</th>\n",
       "      <td>0.125211</td>\n",
       "    </tr>\n",
       "    <tr>\n",
       "      <th>HIS_41</th>\n",
       "      <td>-0.221865</td>\n",
       "    </tr>\n",
       "    <tr>\n",
       "      <th>LYS_616</th>\n",
       "      <td>-0.129365</td>\n",
       "    </tr>\n",
       "  </tbody>\n",
       "</table>\n",
       "</div>"
      ],
      "text/plain": [
       "          HIS_164\n",
       "LYS_575 -0.104681\n",
       "ASP_176 -0.109997\n",
       "ARG_346  0.116519\n",
       "TYR_360 -0.136468\n",
       "TYR_54  -0.115347\n",
       "ARG_298  0.149144\n",
       "ARG_40   0.211486\n",
       "HIS_163 -0.492588\n",
       "CYS_128  0.125571\n",
       "ASP_187 -0.578010\n",
       "GLU_546 -0.132600\n",
       "CYS_606  0.125211\n",
       "HIS_41  -0.221865\n",
       "LYS_616 -0.129365"
      ]
     },
     "execution_count": 18,
     "metadata": {},
     "output_type": "execute_result"
    }
   ],
   "source": [
    "S11_test_data = S11_filter_HIS164_data.apply(lambda x: x/2)\n",
    "S11_test_data"
   ]
  },
  {
   "cell_type": "code",
   "execution_count": null,
   "id": "23cb5b3c-30f4-4f5a-a0c1-f6691e48d333",
   "metadata": {},
   "outputs": [],
   "source": []
  }
 ],
 "metadata": {
  "kernelspec": {
   "display_name": "Python 3 (ipykernel)",
   "language": "python",
   "name": "python3"
  },
  "language_info": {
   "codemirror_mode": {
    "name": "ipython",
    "version": 3
   },
   "file_extension": ".py",
   "mimetype": "text/x-python",
   "name": "python",
   "nbconvert_exporter": "python",
   "pygments_lexer": "ipython3",
   "version": "3.13.5"
  }
 },
 "nbformat": 4,
 "nbformat_minor": 5
}
