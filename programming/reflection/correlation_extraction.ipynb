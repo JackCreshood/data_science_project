{
 "cells": [
  {
   "cell_type": "markdown",
   "id": "8628fbcc-3ddb-4023-b9e5-65112bb8f0cb",
   "metadata": {},
   "source": [
    "## S05--HIS_164\n",
    "* Task: to extract the 'HIS164' column in S05, this will be expanded to other datasets and residues."
   ]
  },
  {
   "cell_type": "code",
   "execution_count": 1,
   "id": "9175e34e-b072-4941-854a-6cd7628c92b1",
   "metadata": {},
   "outputs": [],
   "source": [
    "import pandas as pd\n",
    "from pathlib import Path\n",
    "import warnings"
   ]
  },
  {
   "cell_type": "code",
   "execution_count": 2,
   "id": "70738383-6be8-4b1f-8d52-9fdeeffd9669",
   "metadata": {},
   "outputs": [],
   "source": [
    "# path names\n",
    "root = Path().resolve()\n",
    "path = root/'dataset'/'Henry_Mpro_pKa'"
   ]
  },
  {
   "cell_type": "code",
   "execution_count": 3,
   "id": "b864bcd0-0fc2-4b7a-944c-3e4abf6474a1",
   "metadata": {},
   "outputs": [],
   "source": [
    "# the function to read data\n",
    "def read_data(name):\n",
    "    table_data = pd.DataFrame({})\n",
    "    dataset_path = path/name\n",
    "    for dp in dataset_path.iterdir():\n",
    "        # structure.pdb does not need to be read here\n",
    "        if dp.name != 'structure.pdb':\n",
    "            temp_table = pd.read_table(dp, header=None, names=['#1', '#2'])\n",
    "            temp_array = (list)(temp_table['#2'])\n",
    "            table_data[dp.name] = temp_array\n",
    "            warnings.simplefilter(action=\"ignore\", category=pd.errors.PerformanceWarning)\n",
    "    return table_data"
   ]
  },
  {
   "cell_type": "code",
   "execution_count": 9,
   "id": "083bd174-c508-4ca7-80b9-b54385bdb17e",
   "metadata": {},
   "outputs": [],
   "source": [
    "S05_table = read_data(name='S05')"
   ]
  },
  {
   "cell_type": "code",
   "execution_count": 4,
   "id": "986930ac-cf1f-4a4f-a61d-cd53e5b6a924",
   "metadata": {},
   "outputs": [],
   "source": [
    "def pearson_analysis(table):\n",
    "\n",
    "    corr_matrix = table.corr(method='pearson')\n",
    "\n",
    "    return corr_matrix"
   ]
  },
  {
   "cell_type": "code",
   "execution_count": 10,
   "id": "023f67cd-7941-46a2-9f34-37d8b96e564e",
   "metadata": {},
   "outputs": [],
   "source": [
    "S05_corr_matrix = pearson_analysis(S05_table)"
   ]
  },
  {
   "cell_type": "code",
   "execution_count": 21,
   "id": "142684e0-177b-4229-9b2d-cc06329f3ec3",
   "metadata": {},
   "outputs": [],
   "source": [
    "HIS164_column = S05_corr_matrix.loc['HIS_164']\n",
    "HIS164_data = pd.DataFrame(HIS164_column)\n",
    "HIS164_clean_data = HIS164_data.drop('HIS_164')\n",
    "HIS164_abs_data = HIS164_clean_data.abs()\n",
    "double_HIS164_data = HIS164_clean_data.apply(lambda x: x*2)\n",
    "double_HIS164_abs = HIS164_abs_data.apply(lambda x: x*2)\n",
    "\n",
    "HIS164_clean_data.to_csv('./processed/HIS164.csv')\n",
    "HIS164_abs_data.to_csv('./processed/HIS164_abs.csv')\n",
    "double_HIS164_data.to_csv('./processed/double_HIS164.csv')\n",
    "double_HIS164_abs.to_csv('./processed/double_HIS164_abs.csv')"
   ]
  },
  {
   "cell_type": "markdown",
   "id": "e3f4dba4-bb7b-40d3-845b-71ddca5e1932",
   "metadata": {},
   "source": [
    "## Expand to other substrates"
   ]
  },
  {
   "cell_type": "code",
   "execution_count": 5,
   "id": "cea89d73-7cf0-4016-b7a8-7cba7ca1eafa",
   "metadata": {},
   "outputs": [],
   "source": [
    "S01_table = read_data(name='S01')\n",
    "S02_table = read_data(name='S02')\n",
    "S03_table = read_data(name='S03')\n",
    "S04_table = read_data(name='S04')\n",
    "S06_table = read_data(name='S06')\n",
    "S07_table = read_data(name='S07')\n",
    "S08_table = read_data(name='S08')\n",
    "S09_table = read_data(name='S09')\n",
    "S10_table = read_data(name='S10')\n",
    "S11_table = read_data(name='S11')\n",
    "p12_table = read_data(name='p12')\n",
    "p13_table = read_data(name='p13')\n",
    "\n",
    "S01_corr_matrix = pearson_analysis(S01_table)\n",
    "S02_corr_matrix = pearson_analysis(S02_table)\n",
    "S03_corr_matrix = pearson_analysis(S03_table)\n",
    "S04_corr_matrix = pearson_analysis(S04_table)\n",
    "S06_corr_matrix = pearson_analysis(S06_table)\n",
    "S07_corr_matrix = pearson_analysis(S07_table)\n",
    "S08_corr_matrix = pearson_analysis(S08_table)\n",
    "S09_corr_matrix = pearson_analysis(S09_table)\n",
    "S10_corr_matrix = pearson_analysis(S10_table)\n",
    "S11_corr_matrix = pearson_analysis(S11_table)\n",
    "p12_corr_matrix = pearson_analysis(p12_table)\n",
    "p13_corr_matrix = pearson_analysis(p13_table)"
   ]
  },
  {
   "cell_type": "code",
   "execution_count": 6,
   "id": "344bc161-a707-4bf0-8b3f-e85ced189b42",
   "metadata": {},
   "outputs": [],
   "source": [
    "def extract_corr(sub_matrix, resi):\n",
    "    resi_column = sub_matrix.loc[resi]\n",
    "    resi_data = pd.DataFrame(resi_column)\n",
    "    resi_clean_data = resi_data.drop(resi)\n",
    "    double_resi_data = resi_clean_data.apply(lambda x: x*2)\n",
    "    return double_resi_data"
   ]
  },
  {
   "cell_type": "code",
   "execution_count": 11,
   "id": "646055ef-8740-4d03-ac45-824adfd237a9",
   "metadata": {},
   "outputs": [],
   "source": [
    "S01_double_HIS164_data = extract_corr(S01_corr_matrix, resi='HIS_164')\n",
    "S02_double_HIS164_data = extract_corr(S02_corr_matrix, resi='HIS_164')\n",
    "S03_double_HIS164_data = extract_corr(S03_corr_matrix, resi='HIS_164')\n",
    "S04_double_HIS164_data = extract_corr(S04_corr_matrix, resi='HIS_164')\n",
    "S06_double_HIS164_data = extract_corr(S06_corr_matrix, resi='HIS_164')\n",
    "S07_double_HIS164_data = extract_corr(S07_corr_matrix, resi='HIS_164')\n",
    "S08_double_HIS164_data = extract_corr(S08_corr_matrix, resi='HIS_164')\n",
    "S09_double_HIS164_data = extract_corr(S09_corr_matrix, resi='HIS_164')\n",
    "S10_double_HIS164_data = extract_corr(S10_corr_matrix, resi='HIS_164')\n",
    "S11_double_HIS164_data = extract_corr(S11_corr_matrix, resi='HIS_164')\n",
    "p12_double_HIS164_data = extract_corr(p12_corr_matrix, resi='HIS_164')\n",
    "p13_double_HIS164_data = extract_corr(p13_corr_matrix, resi='HIS_164')"
   ]
  },
  {
   "cell_type": "code",
   "execution_count": 26,
   "id": "321ea698-14af-4ce3-ab87-49ede2192e30",
   "metadata": {},
   "outputs": [],
   "source": [
    "S01_double_HIS164_data.to_csv('./processed/S01/S01_double_HIS164.csv')\n",
    "S02_double_HIS164_data.to_csv('./processed/S02/S02_double_HIS164.csv')\n",
    "S03_double_HIS164_data.to_csv('./processed/S03/S03_double_HIS164.csv')\n",
    "S04_double_HIS164_data.to_csv('./processed/S04/S04_double_HIS164.csv')\n",
    "S06_double_HIS164_data.to_csv('./processed/S06/S06_double_HIS164.csv')\n",
    "S07_double_HIS164_data.to_csv('./processed/S07/S07_double_HIS164.csv')\n",
    "S08_double_HIS164_data.to_csv('./processed/S08/S08_double_HIS164.csv')\n",
    "S09_double_HIS164_data.to_csv('./processed/S09/S09_double_HIS164.csv')\n",
    "S10_double_HIS164_data.to_csv('./processed/S10/S10_double_HIS164.csv')\n",
    "S11_double_HIS164_data.to_csv('./processed/S11/S11_double_HIS164.csv')\n",
    "p12_double_HIS164_data.to_csv('./processed/p12/p12_double_HIS164.csv')\n",
    "p13_double_HIS164_data.to_csv('./processed/p13/p13_double_HIS164.csv')"
   ]
  },
  {
   "cell_type": "markdown",
   "id": "7eaf6208-bc9d-4aed-96bb-a4eeb98b0e79",
   "metadata": {},
   "source": [
    "## HIS_41"
   ]
  },
  {
   "cell_type": "code",
   "execution_count": 11,
   "id": "6c0cdb57-a6d2-42e2-9324-5e7505319766",
   "metadata": {},
   "outputs": [],
   "source": [
    "S01_double_HIS41_data = extract_corr(S01_corr_matrix, resi='HIS_41')\n",
    "S02_double_HIS41_data = extract_corr(S02_corr_matrix, resi='HIS_41')\n",
    "S03_double_HIS41_data = extract_corr(S03_corr_matrix, resi='HIS_41')\n",
    "S04_double_HIS41_data = extract_corr(S04_corr_matrix, resi='HIS_41')\n",
    "S05_double_HIS41_data = extract_corr(S05_corr_matrix, resi='HIS_41')\n",
    "S06_double_HIS41_data = extract_corr(S06_corr_matrix, resi='HIS_41')\n",
    "S07_double_HIS41_data = extract_corr(S07_corr_matrix, resi='HIS_41')\n",
    "S08_double_HIS41_data = extract_corr(S08_corr_matrix, resi='HIS_41')\n",
    "S09_double_HIS41_data = extract_corr(S09_corr_matrix, resi='HIS_41')\n",
    "S10_double_HIS41_data = extract_corr(S10_corr_matrix, resi='HIS_41')\n",
    "S11_double_HIS41_data = extract_corr(S11_corr_matrix, resi='HIS_41')\n",
    "p12_double_HIS41_data = extract_corr(p12_corr_matrix, resi='HIS_41')\n",
    "p13_double_HIS41_data = extract_corr(p13_corr_matrix, resi='HIS_41')"
   ]
  },
  {
   "cell_type": "code",
   "execution_count": 13,
   "id": "dbe1d843-ed78-4802-8e90-b7df76acda79",
   "metadata": {},
   "outputs": [],
   "source": [
    "S01_double_HIS41_data.to_csv('./processed/S01/S01_double_HIS41.csv')\n",
    "S02_double_HIS41_data.to_csv('./processed/S02/S02_double_HIS41.csv')\n",
    "S03_double_HIS41_data.to_csv('./processed/S03/S03_double_HIS41.csv')\n",
    "S04_double_HIS41_data.to_csv('./processed/S04/S04_double_HIS41.csv')\n",
    "S05_double_HIS41_data.to_csv('./processed/S05/S05_double_HIS41.csv')\n",
    "S06_double_HIS41_data.to_csv('./processed/S06/S06_double_HIS41.csv')\n",
    "S07_double_HIS41_data.to_csv('./processed/S07/S07_double_HIS41.csv')\n",
    "S08_double_HIS41_data.to_csv('./processed/S08/S08_double_HIS41.csv')\n",
    "S09_double_HIS41_data.to_csv('./processed/S09/S09_double_HIS41.csv')\n",
    "S10_double_HIS41_data.to_csv('./processed/S10/S10_double_HIS41.csv')\n",
    "S11_double_HIS41_data.to_csv('./processed/S11/S11_double_HIS41.csv')\n",
    "p12_double_HIS41_data.to_csv('./processed/p12/p12_double_HIS41.csv')\n",
    "p13_double_HIS41_data.to_csv('./processed/p13/p13_double_HIS41.csv')"
   ]
  },
  {
   "cell_type": "markdown",
   "id": "51fc2d7d-d52b-4e96-b9dc-2de89e74cada",
   "metadata": {},
   "source": [
    "## LYS_90"
   ]
  },
  {
   "cell_type": "code",
   "execution_count": 14,
   "id": "7e73dad4-b695-43ab-a2fd-ea5c1e74bd1f",
   "metadata": {},
   "outputs": [],
   "source": [
    "S01_double_LYS90_data = extract_corr(S01_corr_matrix, resi='LYS_90')\n",
    "S02_double_LYS90_data = extract_corr(S02_corr_matrix, resi='LYS_90')\n",
    "S03_double_LYS90_data = extract_corr(S03_corr_matrix, resi='LYS_90')\n",
    "S04_double_LYS90_data = extract_corr(S04_corr_matrix, resi='LYS_90')\n",
    "S05_double_LYS90_data = extract_corr(S05_corr_matrix, resi='LYS_90')\n",
    "S06_double_LYS90_data = extract_corr(S06_corr_matrix, resi='LYS_90')\n",
    "S07_double_LYS90_data = extract_corr(S07_corr_matrix, resi='LYS_90')\n",
    "S08_double_LYS90_data = extract_corr(S08_corr_matrix, resi='LYS_90')\n",
    "S09_double_LYS90_data = extract_corr(S09_corr_matrix, resi='LYS_90')\n",
    "S10_double_LYS90_data = extract_corr(S10_corr_matrix, resi='LYS_90')\n",
    "S11_double_LYS90_data = extract_corr(S11_corr_matrix, resi='LYS_90')\n",
    "p12_double_LYS90_data = extract_corr(p12_corr_matrix, resi='LYS_90')\n",
    "p13_double_LYS90_data = extract_corr(p13_corr_matrix, resi='LYS_90')"
   ]
  },
  {
   "cell_type": "code",
   "execution_count": 16,
   "id": "0309aa39-449b-4dfc-a67a-020f9bb1506e",
   "metadata": {},
   "outputs": [],
   "source": [
    "S01_double_LYS90_data.to_csv('./processed/S01/S01_double_LYS90.csv')\n",
    "S02_double_LYS90_data.to_csv('./processed/S02/S02_double_LYS90.csv')\n",
    "S03_double_LYS90_data.to_csv('./processed/S03/S03_double_LYS90.csv')\n",
    "S04_double_LYS90_data.to_csv('./processed/S04/S04_double_LYS90.csv')\n",
    "S05_double_LYS90_data.to_csv('./processed/S05/S05_double_LYS90.csv')\n",
    "S06_double_LYS90_data.to_csv('./processed/S06/S06_double_LYS90.csv')\n",
    "S07_double_LYS90_data.to_csv('./processed/S07/S07_double_LYS90.csv')\n",
    "S08_double_LYS90_data.to_csv('./processed/S08/S08_double_LYS90.csv')\n",
    "S09_double_LYS90_data.to_csv('./processed/S09/S09_double_LYS90.csv')\n",
    "S10_double_LYS90_data.to_csv('./processed/S10/S10_double_LYS90.csv')\n",
    "S11_double_LYS90_data.to_csv('./processed/S11/S11_double_LYS90.csv')\n",
    "p12_double_LYS90_data.to_csv('./processed/p12/p12_double_LYS90.csv')\n",
    "p13_double_LYS90_data.to_csv('./processed/p13/p13_double_LYS90.csv')"
   ]
  },
  {
   "cell_type": "markdown",
   "id": "2e7bede0-c933-4c27-b53a-9b1803db0746",
   "metadata": {},
   "source": [
    "## CYS_145"
   ]
  },
  {
   "cell_type": "code",
   "execution_count": 21,
   "id": "c6f2de25-9b33-4ab1-81c3-531f357d1186",
   "metadata": {},
   "outputs": [],
   "source": [
    "S01_double_CYS145_data = extract_corr(S01_corr_matrix, resi='CYS_145')\n",
    "S02_double_CYS145_data = extract_corr(S02_corr_matrix, resi='CYS_145')\n",
    "S03_double_CYS145_data = extract_corr(S03_corr_matrix, resi='CYS_145')\n",
    "S04_double_CYS145_data = extract_corr(S04_corr_matrix, resi='CYS_145')\n",
    "S05_double_CYS145_data = extract_corr(S05_corr_matrix, resi='CYS_145')\n",
    "S06_double_CYS145_data = extract_corr(S06_corr_matrix, resi='CYS_145')\n",
    "S07_double_CYS145_data = extract_corr(S07_corr_matrix, resi='CYS_145')\n",
    "S08_double_CYS145_data = extract_corr(S08_corr_matrix, resi='CYS_145')\n",
    "S09_double_CYS145_data = extract_corr(S09_corr_matrix, resi='CYS_145')\n",
    "S10_double_CYS145_data = extract_corr(S10_corr_matrix, resi='CYS_145')\n",
    "S11_double_CYS145_data = extract_corr(S11_corr_matrix, resi='CYS_145')\n",
    "p12_double_CYS145_data = extract_corr(p12_corr_matrix, resi='CYS_145')\n",
    "p13_double_CYS145_data = extract_corr(p13_corr_matrix, resi='CYS_145')"
   ]
  },
  {
   "cell_type": "code",
   "execution_count": 19,
   "id": "115f8acd-6818-40f7-b95e-5aa41e5ddc48",
   "metadata": {},
   "outputs": [],
   "source": [
    "S01_double_CYS145_data.to_csv('./processed/S01/S01_double_CYS145.csv')\n",
    "S02_double_CYS145_data.to_csv('./processed/S02/S02_double_CYS145.csv')\n",
    "S03_double_CYS145_data.to_csv('./processed/S03/S03_double_CYS145.csv')\n",
    "S04_double_CYS145_data.to_csv('./processed/S04/S04_double_CYS145.csv')\n",
    "S05_double_CYS145_data.to_csv('./processed/S05/S05_double_CYS145.csv')\n",
    "S06_double_CYS145_data.to_csv('./processed/S06/S06_double_CYS145.csv')\n",
    "S07_double_CYS145_data.to_csv('./processed/S07/S07_double_CYS145.csv')\n",
    "S08_double_CYS145_data.to_csv('./processed/S08/S08_double_CYS145.csv')\n",
    "S09_double_CYS145_data.to_csv('./processed/S09/S09_double_CYS145.csv')\n",
    "S10_double_CYS145_data.to_csv('./processed/S10/S10_double_CYS145.csv')\n",
    "S11_double_CYS145_data.to_csv('./processed/S11/S11_double_CYS145.csv')\n",
    "p12_double_CYS145_data.to_csv('./processed/p12/p12_double_CYS145.csv')\n",
    "p13_double_CYS145_data.to_csv('./processed/p13/p13_double_CYS145.csv')"
   ]
  },
  {
   "cell_type": "markdown",
   "id": "380ebe3a-2d85-42e8-8528-df65a61dfd72",
   "metadata": {},
   "source": [
    "## HIS_163"
   ]
  },
  {
   "cell_type": "code",
   "execution_count": 22,
   "id": "6bc9e5c7-a801-4bd5-8004-d9c50c4d4892",
   "metadata": {},
   "outputs": [],
   "source": [
    "S01_double_HIS163_data = extract_corr(S01_corr_matrix, resi='HIS_163')\n",
    "S02_double_HIS163_data = extract_corr(S02_corr_matrix, resi='HIS_163')\n",
    "S03_double_HIS163_data = extract_corr(S03_corr_matrix, resi='HIS_163')\n",
    "S04_double_HIS163_data = extract_corr(S04_corr_matrix, resi='HIS_163')\n",
    "S05_double_HIS163_data = extract_corr(S05_corr_matrix, resi='HIS_163')\n",
    "S06_double_HIS163_data = extract_corr(S06_corr_matrix, resi='HIS_163')\n",
    "S07_double_HIS163_data = extract_corr(S07_corr_matrix, resi='HIS_163')\n",
    "S08_double_HIS163_data = extract_corr(S08_corr_matrix, resi='HIS_163')\n",
    "S09_double_HIS163_data = extract_corr(S09_corr_matrix, resi='HIS_163')\n",
    "S10_double_HIS163_data = extract_corr(S10_corr_matrix, resi='HIS_163')\n",
    "S11_double_HIS163_data = extract_corr(S11_corr_matrix, resi='HIS_163')\n",
    "p12_double_HIS163_data = extract_corr(p12_corr_matrix, resi='HIS_163')\n",
    "p13_double_HIS163_data = extract_corr(p13_corr_matrix, resi='HIS_163')"
   ]
  },
  {
   "cell_type": "code",
   "execution_count": 23,
   "id": "42589166-53a9-4427-9df3-8404847d24f8",
   "metadata": {},
   "outputs": [],
   "source": [
    "S01_double_HIS163_data.to_csv('./processed/S01/S01_double_HIS163.csv')\n",
    "S02_double_HIS163_data.to_csv('./processed/S02/S02_double_HIS163.csv')\n",
    "S03_double_HIS163_data.to_csv('./processed/S03/S03_double_HIS163.csv')\n",
    "S04_double_HIS163_data.to_csv('./processed/S04/S04_double_HIS163.csv')\n",
    "S05_double_HIS163_data.to_csv('./processed/S05/S05_double_HIS163.csv')\n",
    "S06_double_HIS163_data.to_csv('./processed/S06/S06_double_HIS163.csv')\n",
    "S07_double_HIS163_data.to_csv('./processed/S07/S07_double_HIS163.csv')\n",
    "S08_double_HIS163_data.to_csv('./processed/S08/S08_double_HIS163.csv')\n",
    "S09_double_HIS163_data.to_csv('./processed/S09/S09_double_HIS163.csv')\n",
    "S10_double_HIS163_data.to_csv('./processed/S10/S10_double_HIS163.csv')\n",
    "S11_double_HIS163_data.to_csv('./processed/S11/S11_double_HIS163.csv')\n",
    "p12_double_HIS163_data.to_csv('./processed/p12/p12_double_HIS163.csv')\n",
    "p13_double_HIS163_data.to_csv('./processed/p13/p13_double_HIS163.csv')"
   ]
  },
  {
   "cell_type": "markdown",
   "id": "190f3485-c817-47c1-bdb3-d1f92cbd51dc",
   "metadata": {},
   "source": [
    "## GLU_166"
   ]
  },
  {
   "cell_type": "code",
   "execution_count": 25,
   "id": "a5df27b4-60a4-460d-bf56-540b5419905b",
   "metadata": {},
   "outputs": [],
   "source": [
    "S01_double_GLU166_data = extract_corr(S01_corr_matrix, resi='GLU_166')\n",
    "S02_double_GLU166_data = extract_corr(S02_corr_matrix, resi='GLU_166')\n",
    "S03_double_GLU166_data = extract_corr(S03_corr_matrix, resi='GLU_166')\n",
    "S04_double_GLU166_data = extract_corr(S04_corr_matrix, resi='GLU_166')\n",
    "S05_double_GLU166_data = extract_corr(S05_corr_matrix, resi='GLU_166')\n",
    "S06_double_GLU166_data = extract_corr(S06_corr_matrix, resi='GLU_166')\n",
    "S07_double_GLU166_data = extract_corr(S07_corr_matrix, resi='GLU_166')\n",
    "S08_double_GLU166_data = extract_corr(S08_corr_matrix, resi='GLU_166')\n",
    "S09_double_GLU166_data = extract_corr(S09_corr_matrix, resi='GLU_166')\n",
    "S10_double_GLU166_data = extract_corr(S10_corr_matrix, resi='GLU_166')\n",
    "S11_double_GLU166_data = extract_corr(S11_corr_matrix, resi='GLU_166')\n",
    "p12_double_GLU166_data = extract_corr(p12_corr_matrix, resi='GLU_166')\n",
    "p13_double_GLU166_data = extract_corr(p13_corr_matrix, resi='GLU_166')"
   ]
  },
  {
   "cell_type": "code",
   "execution_count": 26,
   "id": "9aef07db-eb0f-4e39-ac00-ce27c51dc8ee",
   "metadata": {},
   "outputs": [],
   "source": [
    "S01_double_GLU166_data.to_csv('./processed/S01/S01_double_GLU166.csv')\n",
    "S02_double_GLU166_data.to_csv('./processed/S02/S02_double_GLU166.csv')\n",
    "S03_double_GLU166_data.to_csv('./processed/S03/S03_double_GLU166.csv')\n",
    "S04_double_GLU166_data.to_csv('./processed/S04/S04_double_GLU166.csv')\n",
    "S05_double_GLU166_data.to_csv('./processed/S05/S05_double_GLU166.csv')\n",
    "S06_double_GLU166_data.to_csv('./processed/S06/S06_double_GLU166.csv')\n",
    "S07_double_GLU166_data.to_csv('./processed/S07/S07_double_GLU166.csv')\n",
    "S08_double_GLU166_data.to_csv('./processed/S08/S08_double_GLU166.csv')\n",
    "S09_double_GLU166_data.to_csv('./processed/S09/S09_double_GLU166.csv')\n",
    "S10_double_GLU166_data.to_csv('./processed/S10/S10_double_GLU166.csv')\n",
    "S11_double_GLU166_data.to_csv('./processed/S11/S11_double_GLU166.csv')\n",
    "p12_double_GLU166_data.to_csv('./processed/p12/p12_double_GLU166.csv')\n",
    "p13_double_GLU166_data.to_csv('./processed/p13/p13_double_GLU166.csv')"
   ]
  },
  {
   "cell_type": "markdown",
   "id": "7e600858-c392-4433-8688-23056d3c130e",
   "metadata": {},
   "source": [
    "## HIS_172"
   ]
  },
  {
   "cell_type": "code",
   "execution_count": 27,
   "id": "f96bbc8f-3ec5-4a32-8e17-5d67557a75eb",
   "metadata": {},
   "outputs": [],
   "source": [
    "S01_double_HIS172_data = extract_corr(S01_corr_matrix, resi='HIS_172')\n",
    "S02_double_HIS172_data = extract_corr(S02_corr_matrix, resi='HIS_172')\n",
    "S03_double_HIS172_data = extract_corr(S03_corr_matrix, resi='HIS_172')\n",
    "S04_double_HIS172_data = extract_corr(S04_corr_matrix, resi='HIS_172')\n",
    "S05_double_HIS172_data = extract_corr(S05_corr_matrix, resi='HIS_172')\n",
    "S06_double_HIS172_data = extract_corr(S06_corr_matrix, resi='HIS_172')\n",
    "S07_double_HIS172_data = extract_corr(S07_corr_matrix, resi='HIS_172')\n",
    "S08_double_HIS172_data = extract_corr(S08_corr_matrix, resi='HIS_172')\n",
    "S09_double_HIS172_data = extract_corr(S09_corr_matrix, resi='HIS_172')\n",
    "S10_double_HIS172_data = extract_corr(S10_corr_matrix, resi='HIS_172')\n",
    "S11_double_HIS172_data = extract_corr(S11_corr_matrix, resi='HIS_172')\n",
    "p12_double_HIS172_data = extract_corr(p12_corr_matrix, resi='HIS_172')\n",
    "p13_double_HIS172_data = extract_corr(p13_corr_matrix, resi='HIS_172')"
   ]
  },
  {
   "cell_type": "code",
   "execution_count": 28,
   "id": "a48883e7-5c74-4d9a-9d80-5e492d406b7b",
   "metadata": {},
   "outputs": [],
   "source": [
    "S01_double_HIS172_data.to_csv('./processed/S01/S01_double_HIS172.csv')\n",
    "S02_double_HIS172_data.to_csv('./processed/S02/S02_double_HIS172.csv')\n",
    "S03_double_HIS172_data.to_csv('./processed/S03/S03_double_HIS172.csv')\n",
    "S04_double_HIS172_data.to_csv('./processed/S04/S04_double_HIS172.csv')\n",
    "S05_double_HIS172_data.to_csv('./processed/S05/S05_double_HIS172.csv')\n",
    "S06_double_HIS172_data.to_csv('./processed/S06/S06_double_HIS172.csv')\n",
    "S07_double_HIS172_data.to_csv('./processed/S07/S07_double_HIS172.csv')\n",
    "S08_double_HIS172_data.to_csv('./processed/S08/S08_double_HIS172.csv')\n",
    "S09_double_HIS172_data.to_csv('./processed/S09/S09_double_HIS172.csv')\n",
    "S10_double_HIS172_data.to_csv('./processed/S10/S10_double_HIS172.csv')\n",
    "S11_double_HIS172_data.to_csv('./processed/S11/S11_double_HIS172.csv')\n",
    "p12_double_HIS172_data.to_csv('./processed/p12/p12_double_HIS172.csv')\n",
    "p13_double_HIS172_data.to_csv('./processed/p13/p13_double_HIS172.csv')"
   ]
  },
  {
   "cell_type": "markdown",
   "id": "264b6d94-d8a7-4468-8282-209e25413d0b",
   "metadata": {},
   "source": [
    "## HIS_347"
   ]
  },
  {
   "cell_type": "code",
   "execution_count": 9,
   "id": "6bff1c35-5a7b-4124-9537-c7fc545dce1c",
   "metadata": {},
   "outputs": [],
   "source": [
    "S01_double_HIS347_data = extract_corr(S01_corr_matrix, resi='HIS_347')\n",
    "S02_double_HIS347_data = extract_corr(S02_corr_matrix, resi='HIS_347')\n",
    "S03_double_HIS347_data = extract_corr(S03_corr_matrix, resi='HIS_347')\n",
    "S04_double_HIS347_data = extract_corr(S04_corr_matrix, resi='HIS_347')\n",
    "S05_double_HIS347_data = extract_corr(S05_corr_matrix, resi='HIS_347')\n",
    "S06_double_HIS347_data = extract_corr(S06_corr_matrix, resi='HIS_347')\n",
    "S07_double_HIS347_data = extract_corr(S07_corr_matrix, resi='HIS_347')\n",
    "S08_double_HIS347_data = extract_corr(S08_corr_matrix, resi='HIS_347')\n",
    "S09_double_HIS347_data = extract_corr(S09_corr_matrix, resi='HIS_347')\n",
    "S10_double_HIS347_data = extract_corr(S10_corr_matrix, resi='HIS_347')\n",
    "S11_double_HIS347_data = extract_corr(S11_corr_matrix, resi='HIS_347')\n",
    "p12_double_HIS347_data = extract_corr(p12_corr_matrix, resi='HIS_347')\n",
    "p13_double_HIS347_data = extract_corr(p13_corr_matrix, resi='HIS_347')"
   ]
  },
  {
   "cell_type": "code",
   "execution_count": 10,
   "id": "4858cb3c-5423-42ba-9e92-fff655f8130f",
   "metadata": {},
   "outputs": [],
   "source": [
    "S01_double_HIS347_data.to_csv('./processed/S01/S01_double_HIS347.csv')\n",
    "S02_double_HIS347_data.to_csv('./processed/S02/S02_double_HIS347.csv')\n",
    "S03_double_HIS347_data.to_csv('./processed/S03/S03_double_HIS347.csv')\n",
    "S04_double_HIS347_data.to_csv('./processed/S04/S04_double_HIS347.csv')\n",
    "S05_double_HIS347_data.to_csv('./processed/S05/S05_double_HIS347.csv')\n",
    "S06_double_HIS347_data.to_csv('./processed/S06/S06_double_HIS347.csv')\n",
    "S07_double_HIS347_data.to_csv('./processed/S07/S07_double_HIS347.csv')\n",
    "S08_double_HIS347_data.to_csv('./processed/S08/S08_double_HIS347.csv')\n",
    "S09_double_HIS347_data.to_csv('./processed/S09/S09_double_HIS347.csv')\n",
    "S10_double_HIS347_data.to_csv('./processed/S10/S10_double_HIS347.csv')\n",
    "S11_double_HIS347_data.to_csv('./processed/S11/S11_double_HIS347.csv')\n",
    "p12_double_HIS347_data.to_csv('./processed/p12/p12_double_HIS347.csv')\n",
    "p13_double_HIS347_data.to_csv('./processed/p13/p13_double_HIS347.csv')"
   ]
  },
  {
   "cell_type": "markdown",
   "id": "72b3e96d-b592-46ef-b133-0fcb23354f9d",
   "metadata": {},
   "source": [
    "## LYS_396"
   ]
  },
  {
   "cell_type": "code",
   "execution_count": 13,
   "id": "d3a46969-a00b-4c04-9989-7f52547d6446",
   "metadata": {},
   "outputs": [],
   "source": [
    "S01_double_LYS396_data = extract_corr(S01_corr_matrix, resi='LYS_396')\n",
    "S02_double_LYS396_data = extract_corr(S02_corr_matrix, resi='LYS_396')\n",
    "S03_double_LYS396_data = extract_corr(S03_corr_matrix, resi='LYS_396')\n",
    "S04_double_LYS396_data = extract_corr(S04_corr_matrix, resi='LYS_396')\n",
    "S05_double_LYS396_data = extract_corr(S05_corr_matrix, resi='LYS_396')\n",
    "S06_double_LYS396_data = extract_corr(S06_corr_matrix, resi='LYS_396')\n",
    "S07_double_LYS396_data = extract_corr(S07_corr_matrix, resi='LYS_396')\n",
    "S08_double_LYS396_data = extract_corr(S08_corr_matrix, resi='LYS_396')\n",
    "S09_double_LYS396_data = extract_corr(S09_corr_matrix, resi='LYS_396')\n",
    "S10_double_LYS396_data = extract_corr(S10_corr_matrix, resi='LYS_396')\n",
    "S11_double_LYS396_data = extract_corr(S11_corr_matrix, resi='LYS_396')\n",
    "p12_double_LYS396_data = extract_corr(p12_corr_matrix, resi='LYS_396')\n",
    "p13_double_LYS396_data = extract_corr(p13_corr_matrix, resi='LYS_396')"
   ]
  },
  {
   "cell_type": "code",
   "execution_count": 14,
   "id": "71de3418-8372-40a3-b8fd-cdece701a8c4",
   "metadata": {},
   "outputs": [],
   "source": [
    "S01_double_LYS396_data.to_csv('./processed/S01/S01_double_LYS396.csv')\n",
    "S02_double_LYS396_data.to_csv('./processed/S02/S02_double_LYS396.csv')\n",
    "S03_double_LYS396_data.to_csv('./processed/S03/S03_double_LYS396.csv')\n",
    "S04_double_LYS396_data.to_csv('./processed/S04/S04_double_LYS396.csv')\n",
    "S05_double_LYS396_data.to_csv('./processed/S05/S05_double_LYS396.csv')\n",
    "S06_double_LYS396_data.to_csv('./processed/S06/S06_double_LYS396.csv')\n",
    "S07_double_LYS396_data.to_csv('./processed/S07/S07_double_LYS396.csv')\n",
    "S08_double_LYS396_data.to_csv('./processed/S08/S08_double_LYS396.csv')\n",
    "S09_double_LYS396_data.to_csv('./processed/S09/S09_double_LYS396.csv')\n",
    "S10_double_LYS396_data.to_csv('./processed/S10/S10_double_LYS396.csv')\n",
    "S11_double_LYS396_data.to_csv('./processed/S11/S11_double_LYS396.csv')\n",
    "p12_double_LYS396_data.to_csv('./processed/p12/p12_double_LYS396.csv')\n",
    "p13_double_LYS396_data.to_csv('./processed/p13/p13_double_LYS396.csv')"
   ]
  },
  {
   "cell_type": "markdown",
   "id": "879a274f-e63a-4bf8-b2a1-273dacbb0dfe",
   "metadata": {},
   "source": [
    "## CYS_451"
   ]
  },
  {
   "cell_type": "code",
   "execution_count": 11,
   "id": "d286a2c0-f2f6-4a23-80e5-5321912a7333",
   "metadata": {},
   "outputs": [],
   "source": [
    "S01_double_CYS451_data = extract_corr(S01_corr_matrix, resi='CYS_451')\n",
    "S02_double_CYS451_data = extract_corr(S02_corr_matrix, resi='CYS_451')\n",
    "S03_double_CYS451_data = extract_corr(S03_corr_matrix, resi='CYS_451')\n",
    "S04_double_CYS451_data = extract_corr(S04_corr_matrix, resi='CYS_451')\n",
    "S05_double_CYS451_data = extract_corr(S05_corr_matrix, resi='CYS_451')\n",
    "S06_double_CYS451_data = extract_corr(S06_corr_matrix, resi='CYS_451')\n",
    "S07_double_CYS451_data = extract_corr(S07_corr_matrix, resi='CYS_451')\n",
    "S08_double_CYS451_data = extract_corr(S08_corr_matrix, resi='CYS_451')\n",
    "S09_double_CYS451_data = extract_corr(S09_corr_matrix, resi='CYS_451')\n",
    "S10_double_CYS451_data = extract_corr(S10_corr_matrix, resi='CYS_451')\n",
    "S11_double_CYS451_data = extract_corr(S11_corr_matrix, resi='CYS_451')\n",
    "p12_double_CYS451_data = extract_corr(p12_corr_matrix, resi='CYS_451')\n",
    "p13_double_CYS451_data = extract_corr(p13_corr_matrix, resi='CYS_451')"
   ]
  },
  {
   "cell_type": "code",
   "execution_count": 12,
   "id": "688e52a2-23dc-4c0b-9042-3bf8d06b3305",
   "metadata": {},
   "outputs": [],
   "source": [
    "S01_double_CYS451_data.to_csv('./processed/S01/S01_double_CYS451.csv')\n",
    "S02_double_CYS451_data.to_csv('./processed/S02/S02_double_CYS451.csv')\n",
    "S03_double_CYS451_data.to_csv('./processed/S03/S03_double_CYS451.csv')\n",
    "S04_double_CYS451_data.to_csv('./processed/S04/S04_double_CYS451.csv')\n",
    "S05_double_CYS451_data.to_csv('./processed/S05/S05_double_CYS451.csv')\n",
    "S06_double_CYS451_data.to_csv('./processed/S06/S06_double_CYS451.csv')\n",
    "S07_double_CYS451_data.to_csv('./processed/S07/S07_double_CYS451.csv')\n",
    "S08_double_CYS451_data.to_csv('./processed/S08/S08_double_CYS451.csv')\n",
    "S09_double_CYS451_data.to_csv('./processed/S09/S09_double_CYS451.csv')\n",
    "S10_double_CYS451_data.to_csv('./processed/S10/S10_double_CYS451.csv')\n",
    "S11_double_CYS451_data.to_csv('./processed/S11/S11_double_CYS451.csv')\n",
    "p12_double_CYS451_data.to_csv('./processed/p12/p12_double_CYS451.csv')\n",
    "p13_double_CYS451_data.to_csv('./processed/p13/p13_double_CYS451.csv')"
   ]
  },
  {
   "cell_type": "markdown",
   "id": "409bf891-c16f-44f5-b869-7853851588e2",
   "metadata": {},
   "source": [
    "## HIS_469"
   ]
  },
  {
   "cell_type": "code",
   "execution_count": 19,
   "id": "269c1122-db60-49e0-8202-96d6ebf3b08b",
   "metadata": {},
   "outputs": [],
   "source": [
    "S01_double_HIS469_data = extract_corr(S01_corr_matrix, resi='HIS_469')\n",
    "S02_double_HIS469_data = extract_corr(S02_corr_matrix, resi='HIS_469')\n",
    "S03_double_HIS469_data = extract_corr(S03_corr_matrix, resi='HIS_469')\n",
    "S04_double_HIS469_data = extract_corr(S04_corr_matrix, resi='HIS_469')\n",
    "S05_double_HIS469_data = extract_corr(S05_corr_matrix, resi='HIS_469')\n",
    "S06_double_HIS469_data = extract_corr(S06_corr_matrix, resi='HIS_469')\n",
    "S07_double_HIS469_data = extract_corr(S07_corr_matrix, resi='HIS_469')\n",
    "S08_double_HIS469_data = extract_corr(S08_corr_matrix, resi='HIS_469')\n",
    "S09_double_HIS469_data = extract_corr(S09_corr_matrix, resi='HIS_469')\n",
    "S10_double_HIS469_data = extract_corr(S10_corr_matrix, resi='HIS_469')\n",
    "S11_double_HIS469_data = extract_corr(S11_corr_matrix, resi='HIS_469')\n",
    "p12_double_HIS469_data = extract_corr(p12_corr_matrix, resi='HIS_469')\n",
    "p13_double_HIS469_data = extract_corr(p13_corr_matrix, resi='HIS_469')"
   ]
  },
  {
   "cell_type": "code",
   "execution_count": 20,
   "id": "5da63125-c85f-4d4b-9ff7-f83192042e43",
   "metadata": {},
   "outputs": [],
   "source": [
    "S01_double_HIS469_data.to_csv('./processed/S01/S01_double_HIS469.csv')\n",
    "S02_double_HIS469_data.to_csv('./processed/S02/S02_double_HIS469.csv')\n",
    "S03_double_HIS469_data.to_csv('./processed/S03/S03_double_HIS469.csv')\n",
    "S04_double_HIS469_data.to_csv('./processed/S04/S04_double_HIS469.csv')\n",
    "S05_double_HIS469_data.to_csv('./processed/S05/S05_double_HIS469.csv')\n",
    "S06_double_HIS469_data.to_csv('./processed/S06/S06_double_HIS469.csv')\n",
    "S07_double_HIS469_data.to_csv('./processed/S07/S07_double_HIS469.csv')\n",
    "S08_double_HIS469_data.to_csv('./processed/S08/S08_double_HIS469.csv')\n",
    "S09_double_HIS469_data.to_csv('./processed/S09/S09_double_HIS469.csv')\n",
    "S10_double_HIS469_data.to_csv('./processed/S10/S10_double_HIS469.csv')\n",
    "S11_double_HIS469_data.to_csv('./processed/S11/S11_double_HIS469.csv')\n",
    "p12_double_HIS469_data.to_csv('./processed/p12/p12_double_HIS469.csv')\n",
    "p13_double_HIS469_data.to_csv('./processed/p13/p13_double_HIS469.csv')"
   ]
  },
  {
   "cell_type": "markdown",
   "id": "f96a5889-dc0b-47c5-8973-057bee4668bc",
   "metadata": {},
   "source": [
    "## HIS_470"
   ]
  },
  {
   "cell_type": "code",
   "execution_count": 21,
   "id": "e33ffdc5-fc1a-4f9b-b13f-a10d040e29e7",
   "metadata": {},
   "outputs": [],
   "source": [
    "S01_double_HIS470_data = extract_corr(S01_corr_matrix, resi='HIS_470')\n",
    "S02_double_HIS470_data = extract_corr(S02_corr_matrix, resi='HIS_470')\n",
    "S03_double_HIS470_data = extract_corr(S03_corr_matrix, resi='HIS_470')\n",
    "S04_double_HIS470_data = extract_corr(S04_corr_matrix, resi='HIS_470')\n",
    "S05_double_HIS470_data = extract_corr(S05_corr_matrix, resi='HIS_470')\n",
    "S06_double_HIS470_data = extract_corr(S06_corr_matrix, resi='HIS_470')\n",
    "S07_double_HIS470_data = extract_corr(S07_corr_matrix, resi='HIS_470')\n",
    "S08_double_HIS470_data = extract_corr(S08_corr_matrix, resi='HIS_470')\n",
    "S09_double_HIS470_data = extract_corr(S09_corr_matrix, resi='HIS_470')\n",
    "S10_double_HIS470_data = extract_corr(S10_corr_matrix, resi='HIS_470')\n",
    "S11_double_HIS470_data = extract_corr(S11_corr_matrix, resi='HIS_470')\n",
    "p12_double_HIS470_data = extract_corr(p12_corr_matrix, resi='HIS_470')\n",
    "p13_double_HIS470_data = extract_corr(p13_corr_matrix, resi='HIS_470')"
   ]
  },
  {
   "cell_type": "code",
   "execution_count": 22,
   "id": "59531062-52b4-4ff2-92c1-8789ffe6c61f",
   "metadata": {},
   "outputs": [],
   "source": [
    "S01_double_HIS470_data.to_csv('./processed/S01/S01_double_HIS470.csv')\n",
    "S02_double_HIS470_data.to_csv('./processed/S02/S02_double_HIS470.csv')\n",
    "S03_double_HIS470_data.to_csv('./processed/S03/S03_double_HIS470.csv')\n",
    "S04_double_HIS470_data.to_csv('./processed/S04/S04_double_HIS470.csv')\n",
    "S05_double_HIS470_data.to_csv('./processed/S05/S05_double_HIS470.csv')\n",
    "S06_double_HIS470_data.to_csv('./processed/S06/S06_double_HIS470.csv')\n",
    "S07_double_HIS470_data.to_csv('./processed/S07/S07_double_HIS470.csv')\n",
    "S08_double_HIS470_data.to_csv('./processed/S08/S08_double_HIS470.csv')\n",
    "S09_double_HIS470_data.to_csv('./processed/S09/S09_double_HIS470.csv')\n",
    "S10_double_HIS470_data.to_csv('./processed/S10/S10_double_HIS470.csv')\n",
    "S11_double_HIS470_data.to_csv('./processed/S11/S11_double_HIS470.csv')\n",
    "p12_double_HIS470_data.to_csv('./processed/p12/p12_double_HIS470.csv')\n",
    "p13_double_HIS470_data.to_csv('./processed/p13/p13_double_HIS470.csv')"
   ]
  },
  {
   "cell_type": "markdown",
   "id": "a01a6b34-862a-4aaf-9f22-2a3d6deef6d9",
   "metadata": {},
   "source": [
    "## GLU_472"
   ]
  },
  {
   "cell_type": "code",
   "execution_count": 23,
   "id": "8386e1b4-1f31-4837-b759-7343aec5c100",
   "metadata": {},
   "outputs": [],
   "source": [
    "S01_double_GLU472_data = extract_corr(S01_corr_matrix, resi='GLU_472')\n",
    "S02_double_GLU472_data = extract_corr(S02_corr_matrix, resi='GLU_472')\n",
    "S03_double_GLU472_data = extract_corr(S03_corr_matrix, resi='GLU_472')\n",
    "S04_double_GLU472_data = extract_corr(S04_corr_matrix, resi='GLU_472')\n",
    "S05_double_GLU472_data = extract_corr(S05_corr_matrix, resi='GLU_472')\n",
    "S06_double_GLU472_data = extract_corr(S06_corr_matrix, resi='GLU_472')\n",
    "S07_double_GLU472_data = extract_corr(S07_corr_matrix, resi='GLU_472')\n",
    "S08_double_GLU472_data = extract_corr(S08_corr_matrix, resi='GLU_472')\n",
    "S09_double_GLU472_data = extract_corr(S09_corr_matrix, resi='GLU_472')\n",
    "S10_double_GLU472_data = extract_corr(S10_corr_matrix, resi='GLU_472')\n",
    "S11_double_GLU472_data = extract_corr(S11_corr_matrix, resi='GLU_472')\n",
    "p12_double_GLU472_data = extract_corr(p12_corr_matrix, resi='GLU_472')\n",
    "p13_double_GLU472_data = extract_corr(p13_corr_matrix, resi='GLU_472')"
   ]
  },
  {
   "cell_type": "code",
   "execution_count": 25,
   "id": "4f4c46d4-23b5-479c-b53b-e3cbdb9b9cf4",
   "metadata": {},
   "outputs": [],
   "source": [
    "S01_double_GLU472_data.to_csv('./processed/S01/S01_double_GLU472.csv')\n",
    "S02_double_GLU472_data.to_csv('./processed/S02/S02_double_GLU472.csv')\n",
    "S03_double_GLU472_data.to_csv('./processed/S03/S03_double_GLU472.csv')\n",
    "S04_double_GLU472_data.to_csv('./processed/S04/S04_double_GLU472.csv')\n",
    "S05_double_GLU472_data.to_csv('./processed/S05/S05_double_GLU472.csv')\n",
    "S06_double_GLU472_data.to_csv('./processed/S06/S06_double_GLU472.csv')\n",
    "S07_double_GLU472_data.to_csv('./processed/S07/S07_double_GLU472.csv')\n",
    "S08_double_GLU472_data.to_csv('./processed/S08/S08_double_GLU472.csv')\n",
    "S09_double_GLU472_data.to_csv('./processed/S09/S09_double_GLU472.csv')\n",
    "S10_double_GLU472_data.to_csv('./processed/S10/S10_double_GLU472.csv')\n",
    "S11_double_GLU472_data.to_csv('./processed/S11/S11_double_GLU472.csv')\n",
    "p12_double_GLU472_data.to_csv('./processed/p12/p12_double_GLU472.csv')\n",
    "p13_double_GLU472_data.to_csv('./processed/p13/p13_double_GLU472.csv')"
   ]
  },
  {
   "cell_type": "markdown",
   "id": "9fa4a103-4f42-42ff-bcdd-6e4144613013",
   "metadata": {},
   "source": [
    "## HIS_478"
   ]
  },
  {
   "cell_type": "code",
   "execution_count": 26,
   "id": "1a88be85-de31-49e0-b428-2bcb703c903e",
   "metadata": {},
   "outputs": [],
   "source": [
    "S01_double_HIS478_data = extract_corr(S01_corr_matrix, resi='HIS_478')\n",
    "S02_double_HIS478_data = extract_corr(S02_corr_matrix, resi='HIS_478')\n",
    "S03_double_HIS478_data = extract_corr(S03_corr_matrix, resi='HIS_478')\n",
    "S04_double_HIS478_data = extract_corr(S04_corr_matrix, resi='HIS_478')\n",
    "S05_double_HIS478_data = extract_corr(S05_corr_matrix, resi='HIS_478')\n",
    "S06_double_HIS478_data = extract_corr(S06_corr_matrix, resi='HIS_478')\n",
    "S07_double_HIS478_data = extract_corr(S07_corr_matrix, resi='HIS_478')\n",
    "S08_double_HIS478_data = extract_corr(S08_corr_matrix, resi='HIS_478')\n",
    "S09_double_HIS478_data = extract_corr(S09_corr_matrix, resi='HIS_478')\n",
    "S10_double_HIS478_data = extract_corr(S10_corr_matrix, resi='HIS_478')\n",
    "S11_double_HIS478_data = extract_corr(S11_corr_matrix, resi='HIS_478')\n",
    "p12_double_HIS478_data = extract_corr(p12_corr_matrix, resi='HIS_478')\n",
    "p13_double_HIS478_data = extract_corr(p13_corr_matrix, resi='HIS_478')"
   ]
  },
  {
   "cell_type": "code",
   "execution_count": 27,
   "id": "f011c2a3-00be-4712-9746-10425c54440d",
   "metadata": {},
   "outputs": [],
   "source": [
    "S01_double_HIS478_data.to_csv('./processed/S01/S01_double_HIS478.csv')\n",
    "S02_double_HIS478_data.to_csv('./processed/S02/S02_double_HIS478.csv')\n",
    "S03_double_HIS478_data.to_csv('./processed/S03/S03_double_HIS478.csv')\n",
    "S04_double_HIS478_data.to_csv('./processed/S04/S04_double_HIS478.csv')\n",
    "S05_double_HIS478_data.to_csv('./processed/S05/S05_double_HIS478.csv')\n",
    "S06_double_HIS478_data.to_csv('./processed/S06/S06_double_HIS478.csv')\n",
    "S07_double_HIS478_data.to_csv('./processed/S07/S07_double_HIS478.csv')\n",
    "S08_double_HIS478_data.to_csv('./processed/S08/S08_double_HIS478.csv')\n",
    "S09_double_HIS478_data.to_csv('./processed/S09/S09_double_HIS478.csv')\n",
    "S10_double_HIS478_data.to_csv('./processed/S10/S10_double_HIS478.csv')\n",
    "S11_double_HIS478_data.to_csv('./processed/S11/S11_double_HIS478.csv')\n",
    "p12_double_HIS478_data.to_csv('./processed/p12/p12_double_HIS478.csv')\n",
    "p13_double_HIS478_data.to_csv('./processed/p13/p13_double_HIS478.csv')"
   ]
  },
  {
   "cell_type": "code",
   "execution_count": null,
   "id": "2b7191ac-88d8-423f-8d72-027bbfacec01",
   "metadata": {},
   "outputs": [],
   "source": []
  }
 ],
 "metadata": {
  "kernelspec": {
   "display_name": "Python 3 (ipykernel)",
   "language": "python",
   "name": "python3"
  },
  "language_info": {
   "codemirror_mode": {
    "name": "ipython",
    "version": 3
   },
   "file_extension": ".py",
   "mimetype": "text/x-python",
   "name": "python",
   "nbconvert_exporter": "python",
   "pygments_lexer": "ipython3",
   "version": "3.13.5"
  }
 },
 "nbformat": 4,
 "nbformat_minor": 5
}
