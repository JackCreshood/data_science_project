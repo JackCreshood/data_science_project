{
 "cells": [
  {
   "cell_type": "code",
   "execution_count": 4,
   "id": "4b7cb3f2-6911-461e-8df2-223faa5d162f",
   "metadata": {},
   "outputs": [],
   "source": [
    "import warnings\n",
    "import pandas as pd\n",
    "from pathlib import Path"
   ]
  },
  {
   "cell_type": "code",
   "execution_count": 17,
   "id": "7cdedad8-b859-4bc3-9469-dc62e67a6c30",
   "metadata": {},
   "outputs": [],
   "source": [
    "# lists of interesting residues\n",
    "monomer_A = ['HIS_41', 'LYS_90', 'CYS_145', 'HIS_163', 'HIS_164', 'GLU_166', 'HIS_172']\n",
    "monomer_B = ['HIS_347', 'LYS_396', 'CYS_451', 'HIS_469', 'HIS_470', 'GLU_472', 'HIS_478']\n",
    "\n",
    "# path names\n",
    "root = Path().resolve()\n",
    "path = root/'dataset'/'Henry_Mpro_pKa'\n",
    "\n",
    "\n",
    "# function to read the data\n",
    "def read_data(name):\n",
    "    table_data = pd.DataFrame({})\n",
    "    dataset_path = path/name\n",
    "    for dp in dataset_path.iterdir():\n",
    "        if dp.name in monomer_A or dp.name in monomer_B:\n",
    "            temp_table = pd.read_table(dp, header=None, names=['#1', '#2'])\n",
    "            temp_array = (list)(temp_table['#2'])\n",
    "            table_data[dp.name] = temp_array\n",
    "            warnings.simplefilter(action=\"ignore\", category=pd.errors.PerformanceWarning)\n",
    "    return table_data"
   ]
  },
  {
   "cell_type": "code",
   "execution_count": 18,
   "id": "0ef0df45-f20a-42a9-9afc-81e88df4ec53",
   "metadata": {},
   "outputs": [],
   "source": [
    "S01_table = read_data(name='S01')\n",
    "S02_table = read_data(name='S02')\n",
    "S03_table = read_data(name='S03')\n",
    "S04_table = read_data(name='S04')\n",
    "S05_table = read_data(name='S05')\n",
    "S06_table = read_data(name='S06')\n",
    "S07_table = read_data(name='S07')\n",
    "S08_table = read_data(name='S08')\n",
    "S09_table = read_data(name='S09')\n",
    "S10_table = read_data(name='S10')\n",
    "S11_table = read_data(name='S11')\n",
    "p12_table = read_data(name='p12')\n",
    "p13_table = read_data(name='p13')"
   ]
  },
  {
   "cell_type": "code",
   "execution_count": 19,
   "id": "1895ce86-6b8b-4c5b-a1b3-8d8a02c77521",
   "metadata": {},
   "outputs": [
    {
     "data": {
      "text/html": [
       "<div>\n",
       "<style scoped>\n",
       "    .dataframe tbody tr th:only-of-type {\n",
       "        vertical-align: middle;\n",
       "    }\n",
       "\n",
       "    .dataframe tbody tr th {\n",
       "        vertical-align: top;\n",
       "    }\n",
       "\n",
       "    .dataframe thead th {\n",
       "        text-align: right;\n",
       "    }\n",
       "</style>\n",
       "<table border=\"1\" class=\"dataframe\">\n",
       "  <thead>\n",
       "    <tr style=\"text-align: right;\">\n",
       "      <th></th>\n",
       "      <th>HIS_470</th>\n",
       "      <th>HIS_164</th>\n",
       "      <th>HIS_347</th>\n",
       "      <th>HIS_172</th>\n",
       "      <th>HIS_163</th>\n",
       "      <th>GLU_472</th>\n",
       "      <th>HIS_478</th>\n",
       "      <th>LYS_90</th>\n",
       "      <th>LYS_396</th>\n",
       "      <th>HIS_469</th>\n",
       "      <th>GLU_166</th>\n",
       "      <th>CYS_451</th>\n",
       "      <th>CYS_145</th>\n",
       "      <th>HIS_41</th>\n",
       "    </tr>\n",
       "  </thead>\n",
       "  <tbody>\n",
       "    <tr>\n",
       "      <th>0</th>\n",
       "      <td>1.77</td>\n",
       "      <td>2.28</td>\n",
       "      <td>4.40</td>\n",
       "      <td>5.04</td>\n",
       "      <td>1.79</td>\n",
       "      <td>2.18</td>\n",
       "      <td>5.73</td>\n",
       "      <td>11.38</td>\n",
       "      <td>11.37</td>\n",
       "      <td>2.52</td>\n",
       "      <td>1.68</td>\n",
       "      <td>11.72</td>\n",
       "      <td>13.04</td>\n",
       "      <td>4.04</td>\n",
       "    </tr>\n",
       "    <tr>\n",
       "      <th>1</th>\n",
       "      <td>2.16</td>\n",
       "      <td>1.50</td>\n",
       "      <td>4.39</td>\n",
       "      <td>5.15</td>\n",
       "      <td>2.46</td>\n",
       "      <td>1.87</td>\n",
       "      <td>5.83</td>\n",
       "      <td>11.37</td>\n",
       "      <td>11.37</td>\n",
       "      <td>1.50</td>\n",
       "      <td>2.39</td>\n",
       "      <td>11.75</td>\n",
       "      <td>13.05</td>\n",
       "      <td>4.27</td>\n",
       "    </tr>\n",
       "    <tr>\n",
       "      <th>2</th>\n",
       "      <td>1.74</td>\n",
       "      <td>1.72</td>\n",
       "      <td>4.39</td>\n",
       "      <td>5.40</td>\n",
       "      <td>2.43</td>\n",
       "      <td>3.64</td>\n",
       "      <td>4.79</td>\n",
       "      <td>10.54</td>\n",
       "      <td>11.41</td>\n",
       "      <td>2.75</td>\n",
       "      <td>2.14</td>\n",
       "      <td>11.33</td>\n",
       "      <td>12.71</td>\n",
       "      <td>3.52</td>\n",
       "    </tr>\n",
       "    <tr>\n",
       "      <th>3</th>\n",
       "      <td>2.23</td>\n",
       "      <td>2.56</td>\n",
       "      <td>4.52</td>\n",
       "      <td>5.21</td>\n",
       "      <td>1.32</td>\n",
       "      <td>3.20</td>\n",
       "      <td>4.87</td>\n",
       "      <td>11.47</td>\n",
       "      <td>11.37</td>\n",
       "      <td>1.85</td>\n",
       "      <td>1.88</td>\n",
       "      <td>11.89</td>\n",
       "      <td>12.97</td>\n",
       "      <td>4.28</td>\n",
       "    </tr>\n",
       "    <tr>\n",
       "      <th>4</th>\n",
       "      <td>1.69</td>\n",
       "      <td>1.25</td>\n",
       "      <td>4.51</td>\n",
       "      <td>5.18</td>\n",
       "      <td>2.32</td>\n",
       "      <td>3.14</td>\n",
       "      <td>4.76</td>\n",
       "      <td>11.40</td>\n",
       "      <td>11.42</td>\n",
       "      <td>3.26</td>\n",
       "      <td>1.51</td>\n",
       "      <td>11.21</td>\n",
       "      <td>13.01</td>\n",
       "      <td>3.32</td>\n",
       "    </tr>\n",
       "  </tbody>\n",
       "</table>\n",
       "</div>"
      ],
      "text/plain": [
       "   HIS_470  HIS_164  HIS_347  HIS_172  HIS_163  GLU_472  HIS_478  LYS_90  \\\n",
       "0     1.77     2.28     4.40     5.04     1.79     2.18     5.73   11.38   \n",
       "1     2.16     1.50     4.39     5.15     2.46     1.87     5.83   11.37   \n",
       "2     1.74     1.72     4.39     5.40     2.43     3.64     4.79   10.54   \n",
       "3     2.23     2.56     4.52     5.21     1.32     3.20     4.87   11.47   \n",
       "4     1.69     1.25     4.51     5.18     2.32     3.14     4.76   11.40   \n",
       "\n",
       "   LYS_396  HIS_469  GLU_166  CYS_451  CYS_145  HIS_41  \n",
       "0    11.37     2.52     1.68    11.72    13.04    4.04  \n",
       "1    11.37     1.50     2.39    11.75    13.05    4.27  \n",
       "2    11.41     2.75     2.14    11.33    12.71    3.52  \n",
       "3    11.37     1.85     1.88    11.89    12.97    4.28  \n",
       "4    11.42     3.26     1.51    11.21    13.01    3.32  "
      ]
     },
     "execution_count": 19,
     "metadata": {},
     "output_type": "execute_result"
    }
   ],
   "source": [
    "S01_table.head()"
   ]
  },
  {
   "cell_type": "code",
   "execution_count": 40,
   "id": "dc727633-19af-4bf2-a2ef-b4eb28f15fb2",
   "metadata": {},
   "outputs": [],
   "source": [
    "# the function to perform pearson correlation analysis\n",
    "def get_high_corr_features(table):\n",
    "    corr_matrix = table.corr(method='pearson')\n",
    "    threshold = 0.75\n",
    "\n",
    "    corr_pairs = corr_matrix.stack().reset_index()\n",
    "    corr_pairs.columns = ['Feature1', 'Feature2', 'Correlation']\n",
    "    corr_features = corr_pairs[\n",
    "        (corr_pairs['Correlation'].abs() > threshold) &\n",
    "        (corr_pairs['Feature1'] != corr_pairs['Feature2'])\n",
    "    ].sort_values(by='Correlation', ascending=False).drop_duplicates(subset=['Correlation'])\n",
    "\n",
    "    feature_1_array = (list)(corr_features['Feature1'])\n",
    "    feature_2_array = (list)(corr_features['Feature2'])\n",
    "\n",
    "    high_features_array = list(set(feature_1_array + feature_2_array))\n",
    "\n",
    "    return corr_matrix, corr_features, high_features_array"
   ]
  },
  {
   "cell_type": "code",
   "execution_count": 41,
   "id": "f845acb5-2a29-4a4c-aa73-5163f2ed9fb0",
   "metadata": {},
   "outputs": [],
   "source": [
    "S01_corr_matrix, S01_corr_features, S01_high_features_array = get_high_corr_features(S01_table)\n",
    "S02_corr_matrix, S02_corr_features, S02_high_features_array = get_high_corr_features(S02_table)\n",
    "S03_corr_matrix, S03_corr_features, S03_high_features_array = get_high_corr_features(S03_table)\n",
    "S04_corr_matrix, S04_corr_features, S04_high_features_array = get_high_corr_features(S04_table)\n",
    "S05_corr_matrix, S05_corr_features, S05_high_features_array = get_high_corr_features(S05_table)\n",
    "S06_corr_matrix, S06_corr_features, S06_high_features_array = get_high_corr_features(S06_table)\n",
    "S07_corr_matrix, S07_corr_features, S07_high_features_array = get_high_corr_features(S07_table)\n",
    "S08_corr_matrix, S08_corr_features, S08_high_features_array = get_high_corr_features(S08_table)\n",
    "S09_corr_matrix, S09_corr_features, S09_high_features_array = get_high_corr_features(S09_table)\n",
    "S10_corr_matrix, S10_corr_features, S10_high_features_array = get_high_corr_features(S10_table)\n",
    "S11_corr_matrix, S11_corr_features, S11_high_features_array = get_high_corr_features(S11_table)\n",
    "p12_corr_matrix, p12_corr_features, p12_high_features_array = get_high_corr_features(p12_table)\n",
    "p13_corr_matrix, p13_corr_features, p13_high_features_array = get_high_corr_features(p13_table)"
   ]
  },
  {
   "cell_type": "code",
   "execution_count": 42,
   "id": "c6c6af9e-eb19-4be5-8a85-c79f25211bef",
   "metadata": {},
   "outputs": [
    {
     "name": "stdout",
     "output_type": "stream",
     "text": [
      "   Feature1 Feature2  Correlation\n",
      "76  GLU_472  HIS_478    -0.823668\n",
      "52  HIS_172  GLU_166    -0.911223\n",
      "['GLU_166', 'HIS_172', 'GLU_472', 'HIS_478']\n"
     ]
    }
   ],
   "source": [
    "print(S01_corr_features)\n",
    "print(S01_high_features_array)"
   ]
  },
  {
   "cell_type": "code",
   "execution_count": 43,
   "id": "537c1870-81ba-4b40-a15a-e95a991d585c",
   "metadata": {},
   "outputs": [
    {
     "name": "stdout",
     "output_type": "stream",
     "text": [
      "   Feature1 Feature2  Correlation\n",
      "76  GLU_472  HIS_478    -0.857389\n",
      "['GLU_472', 'HIS_478']\n"
     ]
    }
   ],
   "source": [
    "print(S02_corr_features)\n",
    "print(S02_high_features_array)"
   ]
  },
  {
   "cell_type": "code",
   "execution_count": 44,
   "id": "3ff5a118-9ef1-4336-b5d4-4f73412325bf",
   "metadata": {},
   "outputs": [
    {
     "name": "stdout",
     "output_type": "stream",
     "text": [
      "   Feature1 Feature2  Correlation\n",
      "76  GLU_472  HIS_478    -0.844867\n",
      "['GLU_472', 'HIS_478']\n"
     ]
    }
   ],
   "source": [
    "print(S03_corr_features)\n",
    "print(S03_high_features_array)"
   ]
  },
  {
   "cell_type": "code",
   "execution_count": 45,
   "id": "9c560ef7-4416-4f7a-8eb6-cb74de8459f5",
   "metadata": {},
   "outputs": [
    {
     "name": "stdout",
     "output_type": "stream",
     "text": [
      "   Feature1 Feature2  Correlation\n",
      "76  GLU_472  HIS_478    -0.848682\n",
      "['GLU_472', 'HIS_478']\n"
     ]
    }
   ],
   "source": [
    "print(S04_corr_features)\n",
    "print(S04_high_features_array)"
   ]
  },
  {
   "cell_type": "code",
   "execution_count": 46,
   "id": "637f3338-d6cc-4557-8a1a-ade596928785",
   "metadata": {},
   "outputs": [
    {
     "name": "stdout",
     "output_type": "stream",
     "text": [
      "   Feature1 Feature2  Correlation\n",
      "76  GLU_472  HIS_478    -0.825217\n",
      "['GLU_472', 'HIS_478']\n"
     ]
    }
   ],
   "source": [
    "print(S05_corr_features)\n",
    "print(S05_high_features_array)"
   ]
  },
  {
   "cell_type": "code",
   "execution_count": 47,
   "id": "72946bd9-e7f5-49fd-90b3-1585da375ea9",
   "metadata": {},
   "outputs": [
    {
     "name": "stdout",
     "output_type": "stream",
     "text": [
      "   Feature1 Feature2  Correlation\n",
      "76  GLU_472  HIS_478    -0.753923\n",
      "52  HIS_172  GLU_166    -0.789742\n",
      "['GLU_166', 'HIS_172', 'GLU_472', 'HIS_478']\n"
     ]
    }
   ],
   "source": [
    "print(S06_corr_features)\n",
    "print(S06_high_features_array)"
   ]
  },
  {
   "cell_type": "code",
   "execution_count": 48,
   "id": "0a5f56c6-b7ed-47ab-9f10-514e30db07bf",
   "metadata": {},
   "outputs": [
    {
     "name": "stdout",
     "output_type": "stream",
     "text": [
      "   Feature1 Feature2  Correlation\n",
      "52  HIS_172  GLU_166    -0.821920\n",
      "76  GLU_472  HIS_478    -0.823446\n",
      "['HIS_478', 'HIS_172', 'GLU_472', 'GLU_166']\n"
     ]
    }
   ],
   "source": [
    "print(S07_corr_features)\n",
    "print(S07_high_features_array)"
   ]
  },
  {
   "cell_type": "code",
   "execution_count": 49,
   "id": "d62848c2-ce58-4a60-9d18-1da2b5c1511f",
   "metadata": {},
   "outputs": [
    {
     "name": "stdout",
     "output_type": "stream",
     "text": [
      "   Feature1 Feature2  Correlation\n",
      "76  GLU_472  HIS_478    -0.830198\n",
      "52  HIS_172  GLU_166    -0.881891\n",
      "['GLU_166', 'HIS_172', 'GLU_472', 'HIS_478']\n"
     ]
    }
   ],
   "source": [
    "print(S08_corr_features)\n",
    "print(S08_high_features_array)"
   ]
  },
  {
   "cell_type": "code",
   "execution_count": 50,
   "id": "1c0d6524-13ca-40e5-9448-3085eb883563",
   "metadata": {},
   "outputs": [
    {
     "name": "stdout",
     "output_type": "stream",
     "text": [
      "   Feature1 Feature2  Correlation\n",
      "76  GLU_472  HIS_478    -0.834356\n",
      "52  HIS_172  GLU_166    -0.908449\n",
      "['GLU_166', 'HIS_172', 'GLU_472', 'HIS_478']\n"
     ]
    }
   ],
   "source": [
    "print(S09_corr_features)\n",
    "print(S09_high_features_array)"
   ]
  },
  {
   "cell_type": "code",
   "execution_count": 51,
   "id": "befd06eb-c06f-4556-9a55-2c2b0ddd50b8",
   "metadata": {},
   "outputs": [
    {
     "name": "stdout",
     "output_type": "stream",
     "text": [
      "   Feature1 Feature2  Correlation\n",
      "76  GLU_472  HIS_478    -0.835936\n",
      "['GLU_472', 'HIS_478']\n"
     ]
    }
   ],
   "source": [
    "print(S10_corr_features)\n",
    "print(S10_high_features_array)"
   ]
  },
  {
   "cell_type": "code",
   "execution_count": 36,
   "id": "a0ed90e1-908d-49d5-b448-324a87d77d17",
   "metadata": {},
   "outputs": [
    {
     "name": "stdout",
     "output_type": "stream",
     "text": [
      "   Feature1 Feature2  Correlation\n",
      "76  GLU_472  HIS_478     -0.80807\n",
      "['GLU_472', 'HIS_478']\n"
     ]
    }
   ],
   "source": [
    "print(S11_corr_features)\n",
    "print(S11_high_features_array)"
   ]
  },
  {
   "cell_type": "code",
   "execution_count": 52,
   "id": "4f1fd4a9-78a2-46f3-9337-9b3854392b9d",
   "metadata": {},
   "outputs": [
    {
     "name": "stdout",
     "output_type": "stream",
     "text": [
      "   Feature1 Feature2  Correlation\n",
      "76  GLU_472  HIS_478    -0.807500\n",
      "52  HIS_172  GLU_166    -0.857114\n",
      "['GLU_166', 'HIS_172', 'GLU_472', 'HIS_478']\n"
     ]
    }
   ],
   "source": [
    "print(p12_corr_features)\n",
    "print(p12_high_features_array)"
   ]
  },
  {
   "cell_type": "code",
   "execution_count": 53,
   "id": "e36f7c5f-9f65-4bd6-9314-ac8ad87c8856",
   "metadata": {},
   "outputs": [
    {
     "name": "stdout",
     "output_type": "stream",
     "text": [
      "   Feature1 Feature2  Correlation\n",
      "76  GLU_472  HIS_478    -0.811433\n",
      "['GLU_472', 'HIS_478']\n"
     ]
    }
   ],
   "source": [
    "print(p13_corr_features)\n",
    "print(p13_high_features_array)"
   ]
  },
  {
   "cell_type": "code",
   "execution_count": null,
   "id": "8b06e5f9-b465-4260-b607-f861f5d61a0e",
   "metadata": {},
   "outputs": [],
   "source": []
  }
 ],
 "metadata": {
  "kernelspec": {
   "display_name": "Python 3 (ipykernel)",
   "language": "python",
   "name": "python3"
  },
  "language_info": {
   "codemirror_mode": {
    "name": "ipython",
    "version": 3
   },
   "file_extension": ".py",
   "mimetype": "text/x-python",
   "name": "python",
   "nbconvert_exporter": "python",
   "pygments_lexer": "ipython3",
   "version": "3.13.5"
  }
 },
 "nbformat": 4,
 "nbformat_minor": 5
}
