{
 "cells": [
  {
   "cell_type": "code",
   "execution_count": 45,
   "id": "328bd714-46ac-4f1d-85ef-e0395c090bde",
   "metadata": {},
   "outputs": [],
   "source": [
    "import numpy as np\n",
    "import pandas as pd\n",
    "from pathlib import Path\n",
    "import warnings\n",
    "from sklearn.model_selection import train_test_split\n",
    "from sklearn.linear_model import LogisticRegression\n",
    "from sklearn.preprocessing import StandardScaler"
   ]
  },
  {
   "cell_type": "code",
   "execution_count": 3,
   "id": "5ab4e1cd-6e63-48b2-a2d7-79d591844f6f",
   "metadata": {},
   "outputs": [],
   "source": [
    "# path names\n",
    "root = Path().resolve()\n",
    "path = root/'dataset'/'Henry_Mpro_pKa'"
   ]
  },
  {
   "cell_type": "code",
   "execution_count": 4,
   "id": "28c6a92a-8e0a-4b48-9e88-d4987beef753",
   "metadata": {},
   "outputs": [],
   "source": [
    "# the function to read data\n",
    "def read_data(name):\n",
    "    table_data = pd.DataFrame({})\n",
    "    dataset_path = path/name\n",
    "    for dp in dataset_path.iterdir():\n",
    "        # structure.pdb does not need to be read here\n",
    "        if dp.name != 'structure.pdb':\n",
    "            temp_table = pd.read_table(dp, header=None, names=['#1', '#2'])\n",
    "            temp_array = (list)(temp_table['#2'])\n",
    "            table_data[dp.name] = temp_array\n",
    "            warnings.simplefilter(action=\"ignore\", category=pd.errors.PerformanceWarning)\n",
    "    return table_data"
   ]
  },
  {
   "cell_type": "code",
   "execution_count": 5,
   "id": "42dbc1ef-71bf-4e83-98df-87848b2d6962",
   "metadata": {},
   "outputs": [],
   "source": [
    "S01_table = read_data(name='S01')\n",
    "S05_table = read_data(name='S05')\n",
    "\n",
    "S01_index = list(S01_table)\n",
    "S05_index = list(S05_table)\n",
    "\n",
    "same_residues = [x for x in S01_index if x in S05_index]\n",
    "\n",
    "S01_filter = S01_table[same_residues]\n",
    "S05_filter = S05_table[same_residues]"
   ]
  },
  {
   "cell_type": "code",
   "execution_count": 6,
   "id": "c4ba5053-8f96-44ad-91f0-2d5f362a3019",
   "metadata": {},
   "outputs": [],
   "source": [
    "def sort_residues(data):\n",
    "    data_t = data.T\n",
    "    res_lists = list(data_t.index.values)\n",
    "    data_t[\"order\"] = None\n",
    "\n",
    "    for i in range(len(res_lists)):\n",
    "        tmp_idx = res_lists[i]\n",
    "        tmp_val = int(tmp_idx[4:])\n",
    "        data_t.loc[tmp_idx, \"order\"] = tmp_val\n",
    "\n",
    "    data_sort = data_t.sort_values(by=\"order\")\n",
    "    sort_data = data_sort.T\n",
    "    serial_data = sort_data.drop(\"order\")\n",
    "    return serial_data\n",
    "\n",
    "\n",
    "S01_serial = sort_residues(S01_filter)\n",
    "S05_serial = sort_residues(S05_filter)"
   ]
  },
  {
   "cell_type": "code",
   "execution_count": 9,
   "id": "2a42f7ed-d081-4da2-ba15-293641adc64c",
   "metadata": {},
   "outputs": [],
   "source": [
    "S01_corr_matrix = S01_serial.corr(method=\"pearson\")\n",
    "S05_corr_matrix = S05_serial.corr(method=\"pearson\")\n",
    "\n",
    "S01_S05_diff = S01_corr_matrix.sub(S05_corr_matrix)\n",
    "\n",
    "S01_S05_matrix = np.array(S01_S05_diff)"
   ]
  },
  {
   "cell_type": "code",
   "execution_count": 10,
   "id": "2127cbdb-3fb1-4eb4-b938-fbbc78506ffd",
   "metadata": {},
   "outputs": [],
   "source": [
    "serial_res = list(S01_S05_diff.index.values)\n",
    "\n",
    "\n",
    "def extract_high_value(matrix, threshold):\n",
    "    filter_data = pd.DataFrame(columns=[\"Residue_1\", \"Residue_2\", \"Difference\"])\n",
    "\n",
    "    for i in range(len(matrix)-1):\n",
    "        temp_list = matrix[i][i+1:]\n",
    "        for j in range(len(temp_list)):\n",
    "            if abs(temp_list[j]) > threshold:\n",
    "                res_1 = serial_res[i]\n",
    "                res_2 = serial_res[i+j+1]\n",
    "                filter_data.loc[len(filter_data)] = [res_1, res_2, temp_list[j]]\n",
    "\n",
    "    return filter_data\n",
    "\n",
    "\n",
    "S01_S05_filter = extract_high_value(S01_S05_matrix, 0.5)"
   ]
  },
  {
   "cell_type": "code",
   "execution_count": 11,
   "id": "efd8ec44-348e-46a5-a180-959300a63f7a",
   "metadata": {},
   "outputs": [
    {
     "data": {
      "text/html": [
       "<div>\n",
       "<style scoped>\n",
       "    .dataframe tbody tr th:only-of-type {\n",
       "        vertical-align: middle;\n",
       "    }\n",
       "\n",
       "    .dataframe tbody tr th {\n",
       "        vertical-align: top;\n",
       "    }\n",
       "\n",
       "    .dataframe thead th {\n",
       "        text-align: right;\n",
       "    }\n",
       "</style>\n",
       "<table border=\"1\" class=\"dataframe\">\n",
       "  <thead>\n",
       "    <tr style=\"text-align: right;\">\n",
       "      <th></th>\n",
       "      <th>Residue_1</th>\n",
       "      <th>Residue_2</th>\n",
       "      <th>Difference</th>\n",
       "    </tr>\n",
       "  </thead>\n",
       "  <tbody>\n",
       "    <tr>\n",
       "      <th>0</th>\n",
       "      <td>ASP_295</td>\n",
       "      <td>ARG_366</td>\n",
       "      <td>0.589254</td>\n",
       "    </tr>\n",
       "    <tr>\n",
       "      <th>1</th>\n",
       "      <td>ASP_354</td>\n",
       "      <td>TYR_360</td>\n",
       "      <td>-0.812065</td>\n",
       "    </tr>\n",
       "    <tr>\n",
       "      <th>2</th>\n",
       "      <td>TYR_360</td>\n",
       "      <td>ARG_366</td>\n",
       "      <td>0.887981</td>\n",
       "    </tr>\n",
       "    <tr>\n",
       "      <th>3</th>\n",
       "      <td>TYR_360</td>\n",
       "      <td>ARG_494</td>\n",
       "      <td>0.644191</td>\n",
       "    </tr>\n",
       "  </tbody>\n",
       "</table>\n",
       "</div>"
      ],
      "text/plain": [
       "  Residue_1 Residue_2  Difference\n",
       "0   ASP_295   ARG_366    0.589254\n",
       "1   ASP_354   TYR_360   -0.812065\n",
       "2   TYR_360   ARG_366    0.887981\n",
       "3   TYR_360   ARG_494    0.644191"
      ]
     },
     "execution_count": 11,
     "metadata": {},
     "output_type": "execute_result"
    }
   ],
   "source": [
    "S01_S05_filter"
   ]
  },
  {
   "cell_type": "code",
   "execution_count": 26,
   "id": "c2d2a738-70ce-4822-967e-3f12040244ab",
   "metadata": {},
   "outputs": [],
   "source": [
    "diff_residues = [\"ASP_295\", \"ASP_354\", \"TYR_360\", \"ARG_366\", \"ARG_494\"]\n",
    "S01_data = S01_table[diff_residues]\n",
    "S05_data = S05_table[diff_residues]\n",
    "\n",
    "S01_data.insert(S01_data.shape[1], 'Substrate', 'S01')\n",
    "S05_data.insert(S05_data.shape[1], 'Substrate', 'S05')\n",
    "merge_data = pd.concat([S01_data, S05_data], ignore_index=True)"
   ]
  },
  {
   "cell_type": "code",
   "execution_count": 33,
   "id": "95b07fd7-26fe-477f-9c10-bde38204896f",
   "metadata": {},
   "outputs": [],
   "source": [
    "x = merge_data.iloc[:, 0:5]\n",
    "y = merge_data[\"Substrate\"]"
   ]
  },
  {
   "cell_type": "code",
   "execution_count": 35,
   "id": "27ef59bc-47c6-40ea-8dbd-6ed4bec1a55a",
   "metadata": {},
   "outputs": [],
   "source": [
    "x_train, x_test, y_train, y_test = train_test_split(x, y, random_state=42)"
   ]
  },
  {
   "cell_type": "code",
   "execution_count": 38,
   "id": "94ebd408-b1b2-4e69-b109-4d2a8ec414b8",
   "metadata": {},
   "outputs": [
    {
     "data": {
      "text/html": [
       "<style>#sk-container-id-1 {color: black;background-color: white;}#sk-container-id-1 pre{padding: 0;}#sk-container-id-1 div.sk-toggleable {background-color: white;}#sk-container-id-1 label.sk-toggleable__label {cursor: pointer;display: block;width: 100%;margin-bottom: 0;padding: 0.3em;box-sizing: border-box;text-align: center;}#sk-container-id-1 label.sk-toggleable__label-arrow:before {content: \"▸\";float: left;margin-right: 0.25em;color: #696969;}#sk-container-id-1 label.sk-toggleable__label-arrow:hover:before {color: black;}#sk-container-id-1 div.sk-estimator:hover label.sk-toggleable__label-arrow:before {color: black;}#sk-container-id-1 div.sk-toggleable__content {max-height: 0;max-width: 0;overflow: hidden;text-align: left;background-color: #f0f8ff;}#sk-container-id-1 div.sk-toggleable__content pre {margin: 0.2em;color: black;border-radius: 0.25em;background-color: #f0f8ff;}#sk-container-id-1 input.sk-toggleable__control:checked~div.sk-toggleable__content {max-height: 200px;max-width: 100%;overflow: auto;}#sk-container-id-1 input.sk-toggleable__control:checked~label.sk-toggleable__label-arrow:before {content: \"▾\";}#sk-container-id-1 div.sk-estimator input.sk-toggleable__control:checked~label.sk-toggleable__label {background-color: #d4ebff;}#sk-container-id-1 div.sk-label input.sk-toggleable__control:checked~label.sk-toggleable__label {background-color: #d4ebff;}#sk-container-id-1 input.sk-hidden--visually {border: 0;clip: rect(1px 1px 1px 1px);clip: rect(1px, 1px, 1px, 1px);height: 1px;margin: -1px;overflow: hidden;padding: 0;position: absolute;width: 1px;}#sk-container-id-1 div.sk-estimator {font-family: monospace;background-color: #f0f8ff;border: 1px dotted black;border-radius: 0.25em;box-sizing: border-box;margin-bottom: 0.5em;}#sk-container-id-1 div.sk-estimator:hover {background-color: #d4ebff;}#sk-container-id-1 div.sk-parallel-item::after {content: \"\";width: 100%;border-bottom: 1px solid gray;flex-grow: 1;}#sk-container-id-1 div.sk-label:hover label.sk-toggleable__label {background-color: #d4ebff;}#sk-container-id-1 div.sk-serial::before {content: \"\";position: absolute;border-left: 1px solid gray;box-sizing: border-box;top: 0;bottom: 0;left: 50%;z-index: 0;}#sk-container-id-1 div.sk-serial {display: flex;flex-direction: column;align-items: center;background-color: white;padding-right: 0.2em;padding-left: 0.2em;position: relative;}#sk-container-id-1 div.sk-item {position: relative;z-index: 1;}#sk-container-id-1 div.sk-parallel {display: flex;align-items: stretch;justify-content: center;background-color: white;position: relative;}#sk-container-id-1 div.sk-item::before, #sk-container-id-1 div.sk-parallel-item::before {content: \"\";position: absolute;border-left: 1px solid gray;box-sizing: border-box;top: 0;bottom: 0;left: 50%;z-index: -1;}#sk-container-id-1 div.sk-parallel-item {display: flex;flex-direction: column;z-index: 1;position: relative;background-color: white;}#sk-container-id-1 div.sk-parallel-item:first-child::after {align-self: flex-end;width: 50%;}#sk-container-id-1 div.sk-parallel-item:last-child::after {align-self: flex-start;width: 50%;}#sk-container-id-1 div.sk-parallel-item:only-child::after {width: 0;}#sk-container-id-1 div.sk-dashed-wrapped {border: 1px dashed gray;margin: 0 0.4em 0.5em 0.4em;box-sizing: border-box;padding-bottom: 0.4em;background-color: white;}#sk-container-id-1 div.sk-label label {font-family: monospace;font-weight: bold;display: inline-block;line-height: 1.2em;}#sk-container-id-1 div.sk-label-container {text-align: center;}#sk-container-id-1 div.sk-container {/* jupyter's `normalize.less` sets `[hidden] { display: none; }` but bootstrap.min.css set `[hidden] { display: none !important; }` so we also need the `!important` here to be able to override the default hidden behavior on the sphinx rendered scikit-learn.org. See: https://github.com/scikit-learn/scikit-learn/issues/21755 */display: inline-block !important;position: relative;}#sk-container-id-1 div.sk-text-repr-fallback {display: none;}</style><div id=\"sk-container-id-1\" class=\"sk-top-container\"><div class=\"sk-text-repr-fallback\"><pre>LogisticRegression()</pre><b>In a Jupyter environment, please rerun this cell to show the HTML representation or trust the notebook. <br />On GitHub, the HTML representation is unable to render, please try loading this page with nbviewer.org.</b></div><div class=\"sk-container\" hidden><div class=\"sk-item\"><div class=\"sk-estimator sk-toggleable\"><input class=\"sk-toggleable__control sk-hidden--visually\" id=\"sk-estimator-id-1\" type=\"checkbox\" checked><label for=\"sk-estimator-id-1\" class=\"sk-toggleable__label sk-toggleable__label-arrow\">LogisticRegression</label><div class=\"sk-toggleable__content\"><pre>LogisticRegression()</pre></div></div></div></div></div>"
      ],
      "text/plain": [
       "LogisticRegression()"
      ]
     },
     "execution_count": 38,
     "metadata": {},
     "output_type": "execute_result"
    }
   ],
   "source": [
    "estimator = LogisticRegression()\n",
    "estimator.fit(x_train, y_train)"
   ]
  },
  {
   "cell_type": "code",
   "execution_count": 39,
   "id": "892b02b7-4a1f-4054-bc33-9fea82761f49",
   "metadata": {},
   "outputs": [
    {
     "data": {
      "text/plain": [
       "array([[-0.57969535, -0.64038782, -0.80696387, -0.07655472,  0.43989683]])"
      ]
     },
     "execution_count": 39,
     "metadata": {},
     "output_type": "execute_result"
    }
   ],
   "source": [
    "estimator.coef_"
   ]
  },
  {
   "cell_type": "code",
   "execution_count": 40,
   "id": "f8a9bfff-6229-4e75-972c-77e0ca9a06ae",
   "metadata": {},
   "outputs": [
    {
     "data": {
      "text/plain": [
       "array([10.01493588])"
      ]
     },
     "execution_count": 40,
     "metadata": {},
     "output_type": "execute_result"
    }
   ],
   "source": [
    "estimator.intercept_"
   ]
  },
  {
   "cell_type": "code",
   "execution_count": 43,
   "id": "9f1932e5-91e4-488c-9e97-5d723892de27",
   "metadata": {},
   "outputs": [
    {
     "name": "stdout",
     "output_type": "stream",
     "text": [
      "The prediction of logistic regression: \n",
      " ['S05' 'S01' 'S01' 'S05' 'S05' 'S01' 'S01' 'S05' 'S05' 'S05' 'S05' 'S01'\n",
      " 'S01' 'S01' 'S01' 'S01' 'S01' 'S01' 'S05' 'S05' 'S01' 'S05' 'S01' 'S05'\n",
      " 'S01' 'S01' 'S01' 'S05' 'S05' 'S05' 'S05' 'S01' 'S01' 'S05' 'S05' 'S01'\n",
      " 'S05' 'S05' 'S05' 'S01' 'S01' 'S01' 'S05' 'S05' 'S01' 'S05' 'S01' 'S05'\n",
      " 'S01' 'S01' 'S05' 'S05' 'S05' 'S05' 'S01' 'S01' 'S01' 'S05' 'S05' 'S01'\n",
      " 'S05' 'S01' 'S05' 'S01' 'S01' 'S05' 'S05' 'S05' 'S01' 'S05' 'S01' 'S01'\n",
      " 'S05' 'S01' 'S01' 'S01' 'S05' 'S01' 'S05' 'S01' 'S05' 'S01' 'S01' 'S05'\n",
      " 'S01' 'S01' 'S01' 'S01' 'S01' 'S05' 'S05' 'S05' 'S05' 'S01' 'S01' 'S05'\n",
      " 'S05' 'S05' 'S01' 'S05' 'S01' 'S01' 'S05' 'S05' 'S01' 'S01' 'S05' 'S05'\n",
      " 'S01' 'S05' 'S01' 'S01' 'S01' 'S05' 'S01' 'S01' 'S05' 'S05' 'S01' 'S01'\n",
      " 'S01' 'S05' 'S05' 'S05' 'S01' 'S05' 'S05' 'S05' 'S05' 'S01' 'S01' 'S05'\n",
      " 'S01' 'S01' 'S05' 'S01' 'S01' 'S05' 'S05' 'S05' 'S05' 'S01' 'S01' 'S05'\n",
      " 'S01' 'S01' 'S01' 'S05' 'S01' 'S01' 'S01' 'S05' 'S01' 'S05' 'S05' 'S05'\n",
      " 'S01' 'S01' 'S05' 'S05' 'S01' 'S01' 'S05' 'S01' 'S01' 'S05' 'S05' 'S01'\n",
      " 'S05' 'S05' 'S05' 'S05' 'S01' 'S01' 'S05' 'S01' 'S05' 'S05' 'S05' 'S01'\n",
      " 'S01' 'S01' 'S05' 'S01' 'S05' 'S01' 'S01' 'S01' 'S05' 'S01' 'S05' 'S05'\n",
      " 'S01' 'S05' 'S01' 'S01' 'S01' 'S01' 'S05' 'S01' 'S01' 'S05' 'S05' 'S05'\n",
      " 'S01' 'S05' 'S01' 'S05' 'S01' 'S01' 'S01' 'S05' 'S05' 'S01' 'S01' 'S05'\n",
      " 'S05' 'S05' 'S05' 'S05' 'S01' 'S05' 'S01' 'S05' 'S05' 'S05' 'S05' 'S05'\n",
      " 'S01' 'S05' 'S01' 'S01' 'S05' 'S01' 'S01' 'S05' 'S05' 'S05' 'S05' 'S01'\n",
      " 'S01' 'S05' 'S05' 'S01' 'S01' 'S01' 'S01' 'S05' 'S05' 'S01' 'S01' 'S01'\n",
      " 'S01' 'S05' 'S01' 'S01' 'S01' 'S01' 'S01' 'S01' 'S05' 'S01' 'S05' 'S01'\n",
      " 'S05' 'S01' 'S05' 'S01' 'S01' 'S01' 'S05' 'S01' 'S05' 'S05' 'S01' 'S01'\n",
      " 'S05' 'S05' 'S01' 'S01' 'S01' 'S05' 'S05' 'S05' 'S01' 'S05' 'S05' 'S05'\n",
      " 'S01' 'S01' 'S01' 'S01' 'S05' 'S05' 'S01' 'S05' 'S05' 'S05' 'S05' 'S01'\n",
      " 'S01']\n",
      "The comparison between the prediction and actual results: \n",
      " 1133     True\n",
      "425      True\n",
      "78       True\n",
      "803      True\n",
      "590     False\n",
      "        ...  \n",
      "707      True\n",
      "1035     True\n",
      "668      True\n",
      "1009    False\n",
      "892     False\n",
      "Name: Substrate, Length: 301, dtype: bool\n"
     ]
    }
   ],
   "source": [
    "y_predict = estimator.predict(x_test)\n",
    "print(\"The prediction of logistic regression: \\n\", y_predict)\n",
    "print(\"The comparison between the prediction and actual results: \\n\", y_test == y_predict)"
   ]
  },
  {
   "cell_type": "code",
   "execution_count": 44,
   "id": "c73838d9-7961-4870-a02b-2fb2448488ba",
   "metadata": {},
   "outputs": [
    {
     "name": "stdout",
     "output_type": "stream",
     "text": [
      "The accuracy is:  0.627906976744186\n"
     ]
    }
   ],
   "source": [
    "score = estimator.score(x_test, y_test)\n",
    "print(\"The accuracy is: \", score)"
   ]
  },
  {
   "cell_type": "code",
   "execution_count": 46,
   "id": "e1e0b775-53a6-41ca-ac0f-5024d7cb6026",
   "metadata": {},
   "outputs": [],
   "source": [
    "transfer = StandardScaler()\n",
    "x_train_ss = transfer.fit_transform(x_train)\n",
    "x_test_ss = transfer.transform(x_test)"
   ]
  },
  {
   "cell_type": "code",
   "execution_count": 47,
   "id": "dc564b85-e1b1-4ccf-b5e7-c68120875f60",
   "metadata": {},
   "outputs": [
    {
     "data": {
      "text/plain": [
       "array([[ 0.66488551,  0.26234845,  0.2065311 ,  0.00814087,  1.46786599],\n",
       "       [-1.23970534,  0.21431758,  0.02576121, -1.31585287, -0.70608503],\n",
       "       [ 1.27707543,  0.11825582, -0.76962628, -1.501212  ,  0.1997279 ],\n",
       "       ...,\n",
       "       [ 1.30428387,  0.9988219 , -0.49847145, -0.03157894,  0.38089048],\n",
       "       [ 0.01188293, -0.00982652,  0.92057214, -0.66709594, -0.6456975 ],\n",
       "       [ 2.20216241, -0.16992944, -0.18212415, -0.21693806,  0.13934037]])"
      ]
     },
     "execution_count": 47,
     "metadata": {},
     "output_type": "execute_result"
    }
   ],
   "source": [
    "x_train_ss"
   ]
  },
  {
   "cell_type": "code",
   "execution_count": 48,
   "id": "19af5e28-0d9d-42e1-9faa-4fdb28fa228b",
   "metadata": {},
   "outputs": [
    {
     "data": {
      "text/html": [
       "<style>#sk-container-id-2 {color: black;background-color: white;}#sk-container-id-2 pre{padding: 0;}#sk-container-id-2 div.sk-toggleable {background-color: white;}#sk-container-id-2 label.sk-toggleable__label {cursor: pointer;display: block;width: 100%;margin-bottom: 0;padding: 0.3em;box-sizing: border-box;text-align: center;}#sk-container-id-2 label.sk-toggleable__label-arrow:before {content: \"▸\";float: left;margin-right: 0.25em;color: #696969;}#sk-container-id-2 label.sk-toggleable__label-arrow:hover:before {color: black;}#sk-container-id-2 div.sk-estimator:hover label.sk-toggleable__label-arrow:before {color: black;}#sk-container-id-2 div.sk-toggleable__content {max-height: 0;max-width: 0;overflow: hidden;text-align: left;background-color: #f0f8ff;}#sk-container-id-2 div.sk-toggleable__content pre {margin: 0.2em;color: black;border-radius: 0.25em;background-color: #f0f8ff;}#sk-container-id-2 input.sk-toggleable__control:checked~div.sk-toggleable__content {max-height: 200px;max-width: 100%;overflow: auto;}#sk-container-id-2 input.sk-toggleable__control:checked~label.sk-toggleable__label-arrow:before {content: \"▾\";}#sk-container-id-2 div.sk-estimator input.sk-toggleable__control:checked~label.sk-toggleable__label {background-color: #d4ebff;}#sk-container-id-2 div.sk-label input.sk-toggleable__control:checked~label.sk-toggleable__label {background-color: #d4ebff;}#sk-container-id-2 input.sk-hidden--visually {border: 0;clip: rect(1px 1px 1px 1px);clip: rect(1px, 1px, 1px, 1px);height: 1px;margin: -1px;overflow: hidden;padding: 0;position: absolute;width: 1px;}#sk-container-id-2 div.sk-estimator {font-family: monospace;background-color: #f0f8ff;border: 1px dotted black;border-radius: 0.25em;box-sizing: border-box;margin-bottom: 0.5em;}#sk-container-id-2 div.sk-estimator:hover {background-color: #d4ebff;}#sk-container-id-2 div.sk-parallel-item::after {content: \"\";width: 100%;border-bottom: 1px solid gray;flex-grow: 1;}#sk-container-id-2 div.sk-label:hover label.sk-toggleable__label {background-color: #d4ebff;}#sk-container-id-2 div.sk-serial::before {content: \"\";position: absolute;border-left: 1px solid gray;box-sizing: border-box;top: 0;bottom: 0;left: 50%;z-index: 0;}#sk-container-id-2 div.sk-serial {display: flex;flex-direction: column;align-items: center;background-color: white;padding-right: 0.2em;padding-left: 0.2em;position: relative;}#sk-container-id-2 div.sk-item {position: relative;z-index: 1;}#sk-container-id-2 div.sk-parallel {display: flex;align-items: stretch;justify-content: center;background-color: white;position: relative;}#sk-container-id-2 div.sk-item::before, #sk-container-id-2 div.sk-parallel-item::before {content: \"\";position: absolute;border-left: 1px solid gray;box-sizing: border-box;top: 0;bottom: 0;left: 50%;z-index: -1;}#sk-container-id-2 div.sk-parallel-item {display: flex;flex-direction: column;z-index: 1;position: relative;background-color: white;}#sk-container-id-2 div.sk-parallel-item:first-child::after {align-self: flex-end;width: 50%;}#sk-container-id-2 div.sk-parallel-item:last-child::after {align-self: flex-start;width: 50%;}#sk-container-id-2 div.sk-parallel-item:only-child::after {width: 0;}#sk-container-id-2 div.sk-dashed-wrapped {border: 1px dashed gray;margin: 0 0.4em 0.5em 0.4em;box-sizing: border-box;padding-bottom: 0.4em;background-color: white;}#sk-container-id-2 div.sk-label label {font-family: monospace;font-weight: bold;display: inline-block;line-height: 1.2em;}#sk-container-id-2 div.sk-label-container {text-align: center;}#sk-container-id-2 div.sk-container {/* jupyter's `normalize.less` sets `[hidden] { display: none; }` but bootstrap.min.css set `[hidden] { display: none !important; }` so we also need the `!important` here to be able to override the default hidden behavior on the sphinx rendered scikit-learn.org. See: https://github.com/scikit-learn/scikit-learn/issues/21755 */display: inline-block !important;position: relative;}#sk-container-id-2 div.sk-text-repr-fallback {display: none;}</style><div id=\"sk-container-id-2\" class=\"sk-top-container\"><div class=\"sk-text-repr-fallback\"><pre>LogisticRegression()</pre><b>In a Jupyter environment, please rerun this cell to show the HTML representation or trust the notebook. <br />On GitHub, the HTML representation is unable to render, please try loading this page with nbviewer.org.</b></div><div class=\"sk-container\" hidden><div class=\"sk-item\"><div class=\"sk-estimator sk-toggleable\"><input class=\"sk-toggleable__control sk-hidden--visually\" id=\"sk-estimator-id-2\" type=\"checkbox\" checked><label for=\"sk-estimator-id-2\" class=\"sk-toggleable__label sk-toggleable__label-arrow\">LogisticRegression</label><div class=\"sk-toggleable__content\"><pre>LogisticRegression()</pre></div></div></div></div></div>"
      ],
      "text/plain": [
       "LogisticRegression()"
      ]
     },
     "execution_count": 48,
     "metadata": {},
     "output_type": "execute_result"
    }
   ],
   "source": [
    "ss_estimator = LogisticRegression()\n",
    "ss_estimator.fit(x_train_ss, y_train)"
   ]
  },
  {
   "cell_type": "code",
   "execution_count": 49,
   "id": "83360d07-958c-4fe1-9793-7fc2d1022bc9",
   "metadata": {},
   "outputs": [
    {
     "data": {
      "text/plain": [
       "array([[-0.43284546, -0.40739699, -0.8831407 , -0.06303534,  0.10851786]])"
      ]
     },
     "execution_count": 49,
     "metadata": {},
     "output_type": "execute_result"
    }
   ],
   "source": [
    "ss_estimator.coef_"
   ]
  },
  {
   "cell_type": "code",
   "execution_count": 50,
   "id": "dc12f9bd-957b-4b06-bc1b-6b9fef05a1c6",
   "metadata": {},
   "outputs": [
    {
     "data": {
      "text/plain": [
       "array([0.17833053])"
      ]
     },
     "execution_count": 50,
     "metadata": {},
     "output_type": "execute_result"
    }
   ],
   "source": [
    "ss_estimator.intercept_"
   ]
  },
  {
   "cell_type": "code",
   "execution_count": 51,
   "id": "b5eebd5d-dd3d-494e-9abb-46f55c0aafe2",
   "metadata": {},
   "outputs": [
    {
     "name": "stdout",
     "output_type": "stream",
     "text": [
      "The results after standard scaled:\n",
      "\n",
      "The prediction of logistic regression: \n",
      " ['S05' 'S05' 'S05' 'S05' 'S05' 'S05' 'S05' 'S05' 'S05' 'S05' 'S05' 'S05'\n",
      " 'S05' 'S05' 'S05' 'S05' 'S05' 'S05' 'S05' 'S05' 'S05' 'S05' 'S05' 'S05'\n",
      " 'S05' 'S05' 'S05' 'S05' 'S05' 'S05' 'S05' 'S05' 'S05' 'S05' 'S05' 'S05'\n",
      " 'S05' 'S05' 'S05' 'S05' 'S05' 'S05' 'S05' 'S05' 'S05' 'S05' 'S05' 'S05'\n",
      " 'S05' 'S05' 'S05' 'S05' 'S05' 'S05' 'S05' 'S05' 'S05' 'S05' 'S05' 'S05'\n",
      " 'S05' 'S05' 'S05' 'S05' 'S05' 'S05' 'S05' 'S05' 'S05' 'S05' 'S05' 'S05'\n",
      " 'S05' 'S05' 'S05' 'S05' 'S05' 'S05' 'S05' 'S05' 'S05' 'S05' 'S05' 'S05'\n",
      " 'S05' 'S05' 'S05' 'S05' 'S05' 'S05' 'S05' 'S05' 'S05' 'S05' 'S05' 'S05'\n",
      " 'S05' 'S05' 'S05' 'S05' 'S05' 'S05' 'S05' 'S05' 'S05' 'S05' 'S05' 'S05'\n",
      " 'S05' 'S05' 'S05' 'S05' 'S05' 'S05' 'S05' 'S05' 'S05' 'S05' 'S05' 'S05'\n",
      " 'S05' 'S05' 'S05' 'S05' 'S05' 'S05' 'S05' 'S05' 'S05' 'S05' 'S05' 'S05'\n",
      " 'S05' 'S05' 'S05' 'S05' 'S05' 'S05' 'S05' 'S05' 'S05' 'S05' 'S05' 'S05'\n",
      " 'S05' 'S05' 'S05' 'S05' 'S05' 'S05' 'S05' 'S05' 'S05' 'S05' 'S05' 'S05'\n",
      " 'S05' 'S05' 'S05' 'S05' 'S05' 'S05' 'S05' 'S05' 'S05' 'S05' 'S05' 'S05'\n",
      " 'S05' 'S05' 'S05' 'S05' 'S05' 'S05' 'S05' 'S05' 'S05' 'S05' 'S05' 'S05'\n",
      " 'S05' 'S05' 'S05' 'S05' 'S05' 'S05' 'S05' 'S05' 'S05' 'S05' 'S05' 'S05'\n",
      " 'S05' 'S05' 'S05' 'S05' 'S05' 'S05' 'S05' 'S05' 'S05' 'S05' 'S05' 'S05'\n",
      " 'S05' 'S05' 'S05' 'S05' 'S05' 'S05' 'S05' 'S05' 'S05' 'S05' 'S05' 'S05'\n",
      " 'S05' 'S05' 'S05' 'S05' 'S05' 'S05' 'S05' 'S05' 'S05' 'S05' 'S05' 'S05'\n",
      " 'S05' 'S05' 'S05' 'S05' 'S05' 'S05' 'S05' 'S05' 'S05' 'S05' 'S05' 'S05'\n",
      " 'S05' 'S05' 'S05' 'S05' 'S05' 'S05' 'S05' 'S05' 'S05' 'S05' 'S05' 'S05'\n",
      " 'S05' 'S05' 'S05' 'S05' 'S05' 'S05' 'S05' 'S05' 'S05' 'S05' 'S05' 'S05'\n",
      " 'S05' 'S05' 'S05' 'S05' 'S05' 'S05' 'S05' 'S05' 'S05' 'S05' 'S05' 'S05'\n",
      " 'S05' 'S05' 'S05' 'S05' 'S05' 'S05' 'S05' 'S05' 'S05' 'S05' 'S05' 'S05'\n",
      " 'S05' 'S05' 'S05' 'S05' 'S05' 'S05' 'S05' 'S05' 'S05' 'S05' 'S05' 'S05'\n",
      " 'S05']\n",
      "The comparison between the prediction and actual results: \n",
      " 1133     True\n",
      "425     False\n",
      "78      False\n",
      "803      True\n",
      "590     False\n",
      "        ...  \n",
      "707      True\n",
      "1035     True\n",
      "668      True\n",
      "1009     True\n",
      "892      True\n",
      "Name: Substrate, Length: 301, dtype: bool\n"
     ]
    },
    {
     "name": "stderr",
     "output_type": "stream",
     "text": [
      "D:\\Anaconda\\Anaconda3\\lib\\site-packages\\sklearn\\base.py:420: UserWarning: X does not have valid feature names, but LogisticRegression was fitted with feature names\n",
      "  warnings.warn(\n"
     ]
    }
   ],
   "source": [
    "y_predict_ss = estimator.predict(x_test_ss)\n",
    "print(\"The results after standard scaled:\\n\")\n",
    "print(\"The prediction of logistic regression: \\n\", y_predict_ss)\n",
    "print(\"The comparison between the prediction and actual results: \\n\", y_test == y_predict_ss)"
   ]
  },
  {
   "cell_type": "code",
   "execution_count": 52,
   "id": "01ae13d6-3fb3-4fad-8136-6bc7b22867e1",
   "metadata": {},
   "outputs": [
    {
     "name": "stdout",
     "output_type": "stream",
     "text": [
      "The accuracy is:  0.627906976744186\n"
     ]
    },
    {
     "name": "stderr",
     "output_type": "stream",
     "text": [
      "D:\\Anaconda\\Anaconda3\\lib\\site-packages\\sklearn\\base.py:420: UserWarning: X does not have valid feature names, but LogisticRegression was fitted with feature names\n",
      "  warnings.warn(\n"
     ]
    }
   ],
   "source": [
    "ss_score = estimator.score(x_test_ss, y_test)\n",
    "print(\"The accuracy is: \", score)"
   ]
  },
  {
   "cell_type": "code",
   "execution_count": null,
   "id": "234464f2-894b-4dcb-b564-abbfcd2b542c",
   "metadata": {},
   "outputs": [],
   "source": []
  }
 ],
 "metadata": {
  "kernelspec": {
   "display_name": "Python 3 (ipykernel)",
   "language": "python",
   "name": "python3"
  },
  "language_info": {
   "codemirror_mode": {
    "name": "ipython",
    "version": 3
   },
   "file_extension": ".py",
   "mimetype": "text/x-python",
   "name": "python",
   "nbconvert_exporter": "python",
   "pygments_lexer": "ipython3",
   "version": "3.13.5"
  }
 },
 "nbformat": 4,
 "nbformat_minor": 5
}
